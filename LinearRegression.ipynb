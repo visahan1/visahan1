{
 "cells": [
  {
   "cell_type": "markdown",
   "id": "august-pollution",
   "metadata": {},
   "source": [
    "# To predict the cat price using Machine Learning Model\n",
    "https://www.kaggle.com/nehalbirla/vehicle-dataset-from-cardekho/"
   ]
  },
  {
   "cell_type": "code",
   "execution_count": 1,
   "id": "joined-violation",
   "metadata": {},
   "outputs": [],
   "source": [
    "import numpy as np\n",
    "import pandas as pd\n",
    "import matplotlib.pyplot as plt\n",
    "import seaborn as sns"
   ]
  },
  {
   "cell_type": "code",
   "execution_count": 2,
   "id": "congressional-level",
   "metadata": {},
   "outputs": [
    {
     "data": {
      "text/html": [
       "<div>\n",
       "<style scoped>\n",
       "    .dataframe tbody tr th:only-of-type {\n",
       "        vertical-align: middle;\n",
       "    }\n",
       "\n",
       "    .dataframe tbody tr th {\n",
       "        vertical-align: top;\n",
       "    }\n",
       "\n",
       "    .dataframe thead th {\n",
       "        text-align: right;\n",
       "    }\n",
       "</style>\n",
       "<table border=\"1\" class=\"dataframe\">\n",
       "  <thead>\n",
       "    <tr style=\"text-align: right;\">\n",
       "      <th></th>\n",
       "      <th>name</th>\n",
       "      <th>year</th>\n",
       "      <th>selling_price</th>\n",
       "      <th>km_driven</th>\n",
       "      <th>fuel</th>\n",
       "      <th>seller_type</th>\n",
       "      <th>transmission</th>\n",
       "      <th>owner</th>\n",
       "      <th>mileage</th>\n",
       "      <th>engine</th>\n",
       "      <th>max_power</th>\n",
       "      <th>torque</th>\n",
       "      <th>seats</th>\n",
       "    </tr>\n",
       "  </thead>\n",
       "  <tbody>\n",
       "    <tr>\n",
       "      <th>0</th>\n",
       "      <td>Maruti Swift Dzire VDI</td>\n",
       "      <td>2014</td>\n",
       "      <td>450000</td>\n",
       "      <td>145500</td>\n",
       "      <td>Diesel</td>\n",
       "      <td>Individual</td>\n",
       "      <td>Manual</td>\n",
       "      <td>First Owner</td>\n",
       "      <td>23.4 kmpl</td>\n",
       "      <td>1248 CC</td>\n",
       "      <td>74 bhp</td>\n",
       "      <td>190Nm@ 2000rpm</td>\n",
       "      <td>5.0</td>\n",
       "    </tr>\n",
       "    <tr>\n",
       "      <th>1</th>\n",
       "      <td>Skoda Rapid 1.5 TDI Ambition</td>\n",
       "      <td>2014</td>\n",
       "      <td>370000</td>\n",
       "      <td>120000</td>\n",
       "      <td>Diesel</td>\n",
       "      <td>Individual</td>\n",
       "      <td>Manual</td>\n",
       "      <td>Second Owner</td>\n",
       "      <td>21.14 kmpl</td>\n",
       "      <td>1498 CC</td>\n",
       "      <td>103.52 bhp</td>\n",
       "      <td>250Nm@ 1500-2500rpm</td>\n",
       "      <td>5.0</td>\n",
       "    </tr>\n",
       "    <tr>\n",
       "      <th>2</th>\n",
       "      <td>Honda City 2017-2020 EXi</td>\n",
       "      <td>2006</td>\n",
       "      <td>158000</td>\n",
       "      <td>140000</td>\n",
       "      <td>Petrol</td>\n",
       "      <td>Individual</td>\n",
       "      <td>Manual</td>\n",
       "      <td>Third Owner</td>\n",
       "      <td>17.7 kmpl</td>\n",
       "      <td>1497 CC</td>\n",
       "      <td>78 bhp</td>\n",
       "      <td>12.7@ 2,700(kgm@ rpm)</td>\n",
       "      <td>5.0</td>\n",
       "    </tr>\n",
       "    <tr>\n",
       "      <th>3</th>\n",
       "      <td>Hyundai i20 Sportz Diesel</td>\n",
       "      <td>2010</td>\n",
       "      <td>225000</td>\n",
       "      <td>127000</td>\n",
       "      <td>Diesel</td>\n",
       "      <td>Individual</td>\n",
       "      <td>Manual</td>\n",
       "      <td>First Owner</td>\n",
       "      <td>23.0 kmpl</td>\n",
       "      <td>1396 CC</td>\n",
       "      <td>90 bhp</td>\n",
       "      <td>22.4 kgm at 1750-2750rpm</td>\n",
       "      <td>5.0</td>\n",
       "    </tr>\n",
       "    <tr>\n",
       "      <th>4</th>\n",
       "      <td>Maruti Swift VXI BSIII</td>\n",
       "      <td>2007</td>\n",
       "      <td>130000</td>\n",
       "      <td>120000</td>\n",
       "      <td>Petrol</td>\n",
       "      <td>Individual</td>\n",
       "      <td>Manual</td>\n",
       "      <td>First Owner</td>\n",
       "      <td>16.1 kmpl</td>\n",
       "      <td>1298 CC</td>\n",
       "      <td>88.2 bhp</td>\n",
       "      <td>11.5@ 4,500(kgm@ rpm)</td>\n",
       "      <td>5.0</td>\n",
       "    </tr>\n",
       "  </tbody>\n",
       "</table>\n",
       "</div>"
      ],
      "text/plain": [
       "                           name  year  selling_price  km_driven    fuel  \\\n",
       "0        Maruti Swift Dzire VDI  2014         450000     145500  Diesel   \n",
       "1  Skoda Rapid 1.5 TDI Ambition  2014         370000     120000  Diesel   \n",
       "2      Honda City 2017-2020 EXi  2006         158000     140000  Petrol   \n",
       "3     Hyundai i20 Sportz Diesel  2010         225000     127000  Diesel   \n",
       "4        Maruti Swift VXI BSIII  2007         130000     120000  Petrol   \n",
       "\n",
       "  seller_type transmission         owner     mileage   engine   max_power  \\\n",
       "0  Individual       Manual   First Owner   23.4 kmpl  1248 CC      74 bhp   \n",
       "1  Individual       Manual  Second Owner  21.14 kmpl  1498 CC  103.52 bhp   \n",
       "2  Individual       Manual   Third Owner   17.7 kmpl  1497 CC      78 bhp   \n",
       "3  Individual       Manual   First Owner   23.0 kmpl  1396 CC      90 bhp   \n",
       "4  Individual       Manual   First Owner   16.1 kmpl  1298 CC    88.2 bhp   \n",
       "\n",
       "                     torque  seats  \n",
       "0            190Nm@ 2000rpm    5.0  \n",
       "1       250Nm@ 1500-2500rpm    5.0  \n",
       "2     12.7@ 2,700(kgm@ rpm)    5.0  \n",
       "3  22.4 kgm at 1750-2750rpm    5.0  \n",
       "4     11.5@ 4,500(kgm@ rpm)    5.0  "
      ]
     },
     "execution_count": 2,
     "metadata": {},
     "output_type": "execute_result"
    }
   ],
   "source": [
    "data = pd.read_csv('DataSet/Car DS/car details v3.csv')\n",
    "data.head()"
   ]
  },
  {
   "cell_type": "code",
   "execution_count": 3,
   "id": "informational-reception",
   "metadata": {},
   "outputs": [
    {
     "data": {
      "text/plain": [
       "8128"
      ]
     },
     "execution_count": 3,
     "metadata": {},
     "output_type": "execute_result"
    }
   ],
   "source": [
    "data['name'].count()"
   ]
  },
  {
   "cell_type": "code",
   "execution_count": 4,
   "id": "assured-investigator",
   "metadata": {},
   "outputs": [
    {
     "data": {
      "text/plain": [
       "name               0\n",
       "year               0\n",
       "selling_price      0\n",
       "km_driven          0\n",
       "fuel               0\n",
       "seller_type        0\n",
       "transmission       0\n",
       "owner              0\n",
       "mileage          221\n",
       "engine           221\n",
       "max_power        215\n",
       "torque           222\n",
       "seats            221\n",
       "dtype: int64"
      ]
     },
     "execution_count": 4,
     "metadata": {},
     "output_type": "execute_result"
    }
   ],
   "source": [
    "data.isna().sum()"
   ]
  },
  {
   "cell_type": "code",
   "execution_count": 5,
   "id": "personal-wrapping",
   "metadata": {},
   "outputs": [
    {
     "data": {
      "text/plain": [
       "name               0\n",
       "year               0\n",
       "selling_price      0\n",
       "km_driven          0\n",
       "fuel               0\n",
       "seller_type        0\n",
       "transmission       0\n",
       "owner              0\n",
       "mileage          221\n",
       "engine           221\n",
       "max_power        215\n",
       "torque           222\n",
       "seats            221\n",
       "dtype: int64"
      ]
     },
     "execution_count": 5,
     "metadata": {},
     "output_type": "execute_result"
    }
   ],
   "source": [
    "data.isnull().sum()"
   ]
  },
  {
   "cell_type": "code",
   "execution_count": 6,
   "id": "limiting-passing",
   "metadata": {
    "scrolled": true
   },
   "outputs": [
    {
     "data": {
      "text/html": [
       "<div>\n",
       "<style scoped>\n",
       "    .dataframe tbody tr th:only-of-type {\n",
       "        vertical-align: middle;\n",
       "    }\n",
       "\n",
       "    .dataframe tbody tr th {\n",
       "        vertical-align: top;\n",
       "    }\n",
       "\n",
       "    .dataframe thead th {\n",
       "        text-align: right;\n",
       "    }\n",
       "</style>\n",
       "<table border=\"1\" class=\"dataframe\">\n",
       "  <thead>\n",
       "    <tr style=\"text-align: right;\">\n",
       "      <th></th>\n",
       "      <th>name</th>\n",
       "      <th>year</th>\n",
       "      <th>selling_price</th>\n",
       "      <th>km_driven</th>\n",
       "      <th>fuel</th>\n",
       "      <th>seller_type</th>\n",
       "      <th>transmission</th>\n",
       "      <th>owner</th>\n",
       "      <th>mileage</th>\n",
       "      <th>engine</th>\n",
       "      <th>max_power</th>\n",
       "      <th>torque</th>\n",
       "      <th>seats</th>\n",
       "    </tr>\n",
       "  </thead>\n",
       "  <tbody>\n",
       "    <tr>\n",
       "      <th>13</th>\n",
       "      <td>Maruti Swift 1.3 VXi</td>\n",
       "      <td>2007</td>\n",
       "      <td>200000</td>\n",
       "      <td>80000</td>\n",
       "      <td>Petrol</td>\n",
       "      <td>Individual</td>\n",
       "      <td>Manual</td>\n",
       "      <td>Second Owner</td>\n",
       "      <td>NaN</td>\n",
       "      <td>NaN</td>\n",
       "      <td>NaN</td>\n",
       "      <td>NaN</td>\n",
       "      <td>NaN</td>\n",
       "    </tr>\n",
       "    <tr>\n",
       "      <th>31</th>\n",
       "      <td>Fiat Palio 1.2 ELX</td>\n",
       "      <td>2003</td>\n",
       "      <td>70000</td>\n",
       "      <td>50000</td>\n",
       "      <td>Petrol</td>\n",
       "      <td>Individual</td>\n",
       "      <td>Manual</td>\n",
       "      <td>Second Owner</td>\n",
       "      <td>NaN</td>\n",
       "      <td>NaN</td>\n",
       "      <td>NaN</td>\n",
       "      <td>NaN</td>\n",
       "      <td>NaN</td>\n",
       "    </tr>\n",
       "    <tr>\n",
       "      <th>78</th>\n",
       "      <td>Tata Indica DLS</td>\n",
       "      <td>2003</td>\n",
       "      <td>50000</td>\n",
       "      <td>70000</td>\n",
       "      <td>Diesel</td>\n",
       "      <td>Individual</td>\n",
       "      <td>Manual</td>\n",
       "      <td>First Owner</td>\n",
       "      <td>NaN</td>\n",
       "      <td>NaN</td>\n",
       "      <td>NaN</td>\n",
       "      <td>NaN</td>\n",
       "      <td>NaN</td>\n",
       "    </tr>\n",
       "    <tr>\n",
       "      <th>87</th>\n",
       "      <td>Maruti Swift VDI BSIV W ABS</td>\n",
       "      <td>2015</td>\n",
       "      <td>475000</td>\n",
       "      <td>78000</td>\n",
       "      <td>Diesel</td>\n",
       "      <td>Dealer</td>\n",
       "      <td>Manual</td>\n",
       "      <td>First Owner</td>\n",
       "      <td>NaN</td>\n",
       "      <td>NaN</td>\n",
       "      <td>NaN</td>\n",
       "      <td>NaN</td>\n",
       "      <td>NaN</td>\n",
       "    </tr>\n",
       "    <tr>\n",
       "      <th>119</th>\n",
       "      <td>Maruti Swift VDI BSIV</td>\n",
       "      <td>2010</td>\n",
       "      <td>300000</td>\n",
       "      <td>120000</td>\n",
       "      <td>Diesel</td>\n",
       "      <td>Individual</td>\n",
       "      <td>Manual</td>\n",
       "      <td>Second Owner</td>\n",
       "      <td>NaN</td>\n",
       "      <td>NaN</td>\n",
       "      <td>NaN</td>\n",
       "      <td>NaN</td>\n",
       "      <td>NaN</td>\n",
       "    </tr>\n",
       "    <tr>\n",
       "      <th>...</th>\n",
       "      <td>...</td>\n",
       "      <td>...</td>\n",
       "      <td>...</td>\n",
       "      <td>...</td>\n",
       "      <td>...</td>\n",
       "      <td>...</td>\n",
       "      <td>...</td>\n",
       "      <td>...</td>\n",
       "      <td>...</td>\n",
       "      <td>...</td>\n",
       "      <td>...</td>\n",
       "      <td>...</td>\n",
       "      <td>...</td>\n",
       "    </tr>\n",
       "    <tr>\n",
       "      <th>7846</th>\n",
       "      <td>Toyota Qualis Fleet A3</td>\n",
       "      <td>2000</td>\n",
       "      <td>200000</td>\n",
       "      <td>100000</td>\n",
       "      <td>Diesel</td>\n",
       "      <td>Individual</td>\n",
       "      <td>Manual</td>\n",
       "      <td>First Owner</td>\n",
       "      <td>NaN</td>\n",
       "      <td>NaN</td>\n",
       "      <td>NaN</td>\n",
       "      <td>NaN</td>\n",
       "      <td>NaN</td>\n",
       "    </tr>\n",
       "    <tr>\n",
       "      <th>7996</th>\n",
       "      <td>Hyundai Santro LS zipPlus</td>\n",
       "      <td>2000</td>\n",
       "      <td>140000</td>\n",
       "      <td>50000</td>\n",
       "      <td>Petrol</td>\n",
       "      <td>Individual</td>\n",
       "      <td>Manual</td>\n",
       "      <td>Second Owner</td>\n",
       "      <td>NaN</td>\n",
       "      <td>NaN</td>\n",
       "      <td>NaN</td>\n",
       "      <td>NaN</td>\n",
       "      <td>NaN</td>\n",
       "    </tr>\n",
       "    <tr>\n",
       "      <th>8009</th>\n",
       "      <td>Hyundai Santro Xing XS eRLX Euro III</td>\n",
       "      <td>2006</td>\n",
       "      <td>145000</td>\n",
       "      <td>80000</td>\n",
       "      <td>Petrol</td>\n",
       "      <td>Individual</td>\n",
       "      <td>Manual</td>\n",
       "      <td>Second Owner</td>\n",
       "      <td>NaN</td>\n",
       "      <td>NaN</td>\n",
       "      <td>NaN</td>\n",
       "      <td>NaN</td>\n",
       "      <td>NaN</td>\n",
       "    </tr>\n",
       "    <tr>\n",
       "      <th>8068</th>\n",
       "      <td>Ford Figo Aspire Facelift</td>\n",
       "      <td>2017</td>\n",
       "      <td>580000</td>\n",
       "      <td>165000</td>\n",
       "      <td>Diesel</td>\n",
       "      <td>Individual</td>\n",
       "      <td>Manual</td>\n",
       "      <td>First Owner</td>\n",
       "      <td>NaN</td>\n",
       "      <td>NaN</td>\n",
       "      <td>NaN</td>\n",
       "      <td>NaN</td>\n",
       "      <td>NaN</td>\n",
       "    </tr>\n",
       "    <tr>\n",
       "      <th>8103</th>\n",
       "      <td>Maruti Swift 1.3 VXi</td>\n",
       "      <td>2006</td>\n",
       "      <td>130000</td>\n",
       "      <td>100000</td>\n",
       "      <td>Petrol</td>\n",
       "      <td>Individual</td>\n",
       "      <td>Manual</td>\n",
       "      <td>Second Owner</td>\n",
       "      <td>NaN</td>\n",
       "      <td>NaN</td>\n",
       "      <td>NaN</td>\n",
       "      <td>NaN</td>\n",
       "      <td>NaN</td>\n",
       "    </tr>\n",
       "  </tbody>\n",
       "</table>\n",
       "<p>221 rows × 13 columns</p>\n",
       "</div>"
      ],
      "text/plain": [
       "                                      name  year  selling_price  km_driven  \\\n",
       "13                    Maruti Swift 1.3 VXi  2007         200000      80000   \n",
       "31                      Fiat Palio 1.2 ELX  2003          70000      50000   \n",
       "78                         Tata Indica DLS  2003          50000      70000   \n",
       "87             Maruti Swift VDI BSIV W ABS  2015         475000      78000   \n",
       "119                  Maruti Swift VDI BSIV  2010         300000     120000   \n",
       "...                                    ...   ...            ...        ...   \n",
       "7846                Toyota Qualis Fleet A3  2000         200000     100000   \n",
       "7996             Hyundai Santro LS zipPlus  2000         140000      50000   \n",
       "8009  Hyundai Santro Xing XS eRLX Euro III  2006         145000      80000   \n",
       "8068             Ford Figo Aspire Facelift  2017         580000     165000   \n",
       "8103                  Maruti Swift 1.3 VXi  2006         130000     100000   \n",
       "\n",
       "        fuel seller_type transmission         owner mileage engine max_power  \\\n",
       "13    Petrol  Individual       Manual  Second Owner     NaN    NaN       NaN   \n",
       "31    Petrol  Individual       Manual  Second Owner     NaN    NaN       NaN   \n",
       "78    Diesel  Individual       Manual   First Owner     NaN    NaN       NaN   \n",
       "87    Diesel      Dealer       Manual   First Owner     NaN    NaN       NaN   \n",
       "119   Diesel  Individual       Manual  Second Owner     NaN    NaN       NaN   \n",
       "...      ...         ...          ...           ...     ...    ...       ...   \n",
       "7846  Diesel  Individual       Manual   First Owner     NaN    NaN       NaN   \n",
       "7996  Petrol  Individual       Manual  Second Owner     NaN    NaN       NaN   \n",
       "8009  Petrol  Individual       Manual  Second Owner     NaN    NaN       NaN   \n",
       "8068  Diesel  Individual       Manual   First Owner     NaN    NaN       NaN   \n",
       "8103  Petrol  Individual       Manual  Second Owner     NaN    NaN       NaN   \n",
       "\n",
       "     torque  seats  \n",
       "13      NaN    NaN  \n",
       "31      NaN    NaN  \n",
       "78      NaN    NaN  \n",
       "87      NaN    NaN  \n",
       "119     NaN    NaN  \n",
       "...     ...    ...  \n",
       "7846    NaN    NaN  \n",
       "7996    NaN    NaN  \n",
       "8009    NaN    NaN  \n",
       "8068    NaN    NaN  \n",
       "8103    NaN    NaN  \n",
       "\n",
       "[221 rows x 13 columns]"
      ]
     },
     "execution_count": 6,
     "metadata": {},
     "output_type": "execute_result"
    }
   ],
   "source": [
    "data[data['mileage'].isnull()]"
   ]
  },
  {
   "cell_type": "code",
   "execution_count": 7,
   "id": "allied-brake",
   "metadata": {},
   "outputs": [
    {
     "data": {
      "text/plain": [
       "2058"
      ]
     },
     "execution_count": 7,
     "metadata": {},
     "output_type": "execute_result"
    }
   ],
   "source": [
    "data['name'].nunique()"
   ]
  },
  {
   "cell_type": "code",
   "execution_count": 8,
   "id": "right-serve",
   "metadata": {},
   "outputs": [],
   "source": [
    "data.drop(labels='name',axis=1,inplace=True)"
   ]
  },
  {
   "cell_type": "code",
   "execution_count": 9,
   "id": "intense-private",
   "metadata": {},
   "outputs": [
    {
     "data": {
      "text/html": [
       "<div>\n",
       "<style scoped>\n",
       "    .dataframe tbody tr th:only-of-type {\n",
       "        vertical-align: middle;\n",
       "    }\n",
       "\n",
       "    .dataframe tbody tr th {\n",
       "        vertical-align: top;\n",
       "    }\n",
       "\n",
       "    .dataframe thead th {\n",
       "        text-align: right;\n",
       "    }\n",
       "</style>\n",
       "<table border=\"1\" class=\"dataframe\">\n",
       "  <thead>\n",
       "    <tr style=\"text-align: right;\">\n",
       "      <th></th>\n",
       "      <th>year</th>\n",
       "      <th>selling_price</th>\n",
       "      <th>km_driven</th>\n",
       "      <th>fuel</th>\n",
       "      <th>seller_type</th>\n",
       "      <th>transmission</th>\n",
       "      <th>owner</th>\n",
       "      <th>mileage</th>\n",
       "      <th>engine</th>\n",
       "      <th>max_power</th>\n",
       "      <th>torque</th>\n",
       "      <th>seats</th>\n",
       "    </tr>\n",
       "  </thead>\n",
       "  <tbody>\n",
       "    <tr>\n",
       "      <th>0</th>\n",
       "      <td>2014</td>\n",
       "      <td>450000</td>\n",
       "      <td>145500</td>\n",
       "      <td>Diesel</td>\n",
       "      <td>Individual</td>\n",
       "      <td>Manual</td>\n",
       "      <td>First Owner</td>\n",
       "      <td>23.4 kmpl</td>\n",
       "      <td>1248 CC</td>\n",
       "      <td>74 bhp</td>\n",
       "      <td>190Nm@ 2000rpm</td>\n",
       "      <td>5.0</td>\n",
       "    </tr>\n",
       "    <tr>\n",
       "      <th>1</th>\n",
       "      <td>2014</td>\n",
       "      <td>370000</td>\n",
       "      <td>120000</td>\n",
       "      <td>Diesel</td>\n",
       "      <td>Individual</td>\n",
       "      <td>Manual</td>\n",
       "      <td>Second Owner</td>\n",
       "      <td>21.14 kmpl</td>\n",
       "      <td>1498 CC</td>\n",
       "      <td>103.52 bhp</td>\n",
       "      <td>250Nm@ 1500-2500rpm</td>\n",
       "      <td>5.0</td>\n",
       "    </tr>\n",
       "    <tr>\n",
       "      <th>2</th>\n",
       "      <td>2006</td>\n",
       "      <td>158000</td>\n",
       "      <td>140000</td>\n",
       "      <td>Petrol</td>\n",
       "      <td>Individual</td>\n",
       "      <td>Manual</td>\n",
       "      <td>Third Owner</td>\n",
       "      <td>17.7 kmpl</td>\n",
       "      <td>1497 CC</td>\n",
       "      <td>78 bhp</td>\n",
       "      <td>12.7@ 2,700(kgm@ rpm)</td>\n",
       "      <td>5.0</td>\n",
       "    </tr>\n",
       "    <tr>\n",
       "      <th>3</th>\n",
       "      <td>2010</td>\n",
       "      <td>225000</td>\n",
       "      <td>127000</td>\n",
       "      <td>Diesel</td>\n",
       "      <td>Individual</td>\n",
       "      <td>Manual</td>\n",
       "      <td>First Owner</td>\n",
       "      <td>23.0 kmpl</td>\n",
       "      <td>1396 CC</td>\n",
       "      <td>90 bhp</td>\n",
       "      <td>22.4 kgm at 1750-2750rpm</td>\n",
       "      <td>5.0</td>\n",
       "    </tr>\n",
       "    <tr>\n",
       "      <th>4</th>\n",
       "      <td>2007</td>\n",
       "      <td>130000</td>\n",
       "      <td>120000</td>\n",
       "      <td>Petrol</td>\n",
       "      <td>Individual</td>\n",
       "      <td>Manual</td>\n",
       "      <td>First Owner</td>\n",
       "      <td>16.1 kmpl</td>\n",
       "      <td>1298 CC</td>\n",
       "      <td>88.2 bhp</td>\n",
       "      <td>11.5@ 4,500(kgm@ rpm)</td>\n",
       "      <td>5.0</td>\n",
       "    </tr>\n",
       "  </tbody>\n",
       "</table>\n",
       "</div>"
      ],
      "text/plain": [
       "   year  selling_price  km_driven    fuel seller_type transmission  \\\n",
       "0  2014         450000     145500  Diesel  Individual       Manual   \n",
       "1  2014         370000     120000  Diesel  Individual       Manual   \n",
       "2  2006         158000     140000  Petrol  Individual       Manual   \n",
       "3  2010         225000     127000  Diesel  Individual       Manual   \n",
       "4  2007         130000     120000  Petrol  Individual       Manual   \n",
       "\n",
       "          owner     mileage   engine   max_power                    torque  \\\n",
       "0   First Owner   23.4 kmpl  1248 CC      74 bhp            190Nm@ 2000rpm   \n",
       "1  Second Owner  21.14 kmpl  1498 CC  103.52 bhp       250Nm@ 1500-2500rpm   \n",
       "2   Third Owner   17.7 kmpl  1497 CC      78 bhp     12.7@ 2,700(kgm@ rpm)   \n",
       "3   First Owner   23.0 kmpl  1396 CC      90 bhp  22.4 kgm at 1750-2750rpm   \n",
       "4   First Owner   16.1 kmpl  1298 CC    88.2 bhp     11.5@ 4,500(kgm@ rpm)   \n",
       "\n",
       "   seats  \n",
       "0    5.0  \n",
       "1    5.0  \n",
       "2    5.0  \n",
       "3    5.0  \n",
       "4    5.0  "
      ]
     },
     "execution_count": 9,
     "metadata": {},
     "output_type": "execute_result"
    }
   ],
   "source": [
    "data.head()"
   ]
  },
  {
   "cell_type": "code",
   "execution_count": 10,
   "id": "quality-flash",
   "metadata": {},
   "outputs": [
    {
     "data": {
      "text/plain": [
       "array(['Diesel', 'Petrol', 'LPG', 'CNG'], dtype=object)"
      ]
     },
     "execution_count": 10,
     "metadata": {},
     "output_type": "execute_result"
    }
   ],
   "source": [
    "data.fuel.unique()"
   ]
  },
  {
   "cell_type": "code",
   "execution_count": 11,
   "id": "simplified-nurse",
   "metadata": {},
   "outputs": [],
   "source": [
    "dict = {'Diesel':1,'Petrol': 2 , 'LPG' : 3, 'CNG':4}"
   ]
  },
  {
   "cell_type": "code",
   "execution_count": 12,
   "id": "pharmaceutical-dividend",
   "metadata": {},
   "outputs": [],
   "source": [
    "data.fuel = data.fuel.map(dict)"
   ]
  },
  {
   "cell_type": "code",
   "execution_count": 13,
   "id": "connected-reminder",
   "metadata": {},
   "outputs": [
    {
     "data": {
      "text/html": [
       "<div>\n",
       "<style scoped>\n",
       "    .dataframe tbody tr th:only-of-type {\n",
       "        vertical-align: middle;\n",
       "    }\n",
       "\n",
       "    .dataframe tbody tr th {\n",
       "        vertical-align: top;\n",
       "    }\n",
       "\n",
       "    .dataframe thead th {\n",
       "        text-align: right;\n",
       "    }\n",
       "</style>\n",
       "<table border=\"1\" class=\"dataframe\">\n",
       "  <thead>\n",
       "    <tr style=\"text-align: right;\">\n",
       "      <th></th>\n",
       "      <th>year</th>\n",
       "      <th>selling_price</th>\n",
       "      <th>km_driven</th>\n",
       "      <th>fuel</th>\n",
       "      <th>seller_type</th>\n",
       "      <th>transmission</th>\n",
       "      <th>owner</th>\n",
       "      <th>mileage</th>\n",
       "      <th>engine</th>\n",
       "      <th>max_power</th>\n",
       "      <th>torque</th>\n",
       "      <th>seats</th>\n",
       "    </tr>\n",
       "  </thead>\n",
       "  <tbody>\n",
       "    <tr>\n",
       "      <th>0</th>\n",
       "      <td>2014</td>\n",
       "      <td>450000</td>\n",
       "      <td>145500</td>\n",
       "      <td>1</td>\n",
       "      <td>Individual</td>\n",
       "      <td>Manual</td>\n",
       "      <td>First Owner</td>\n",
       "      <td>23.4 kmpl</td>\n",
       "      <td>1248 CC</td>\n",
       "      <td>74 bhp</td>\n",
       "      <td>190Nm@ 2000rpm</td>\n",
       "      <td>5.0</td>\n",
       "    </tr>\n",
       "    <tr>\n",
       "      <th>1</th>\n",
       "      <td>2014</td>\n",
       "      <td>370000</td>\n",
       "      <td>120000</td>\n",
       "      <td>1</td>\n",
       "      <td>Individual</td>\n",
       "      <td>Manual</td>\n",
       "      <td>Second Owner</td>\n",
       "      <td>21.14 kmpl</td>\n",
       "      <td>1498 CC</td>\n",
       "      <td>103.52 bhp</td>\n",
       "      <td>250Nm@ 1500-2500rpm</td>\n",
       "      <td>5.0</td>\n",
       "    </tr>\n",
       "    <tr>\n",
       "      <th>2</th>\n",
       "      <td>2006</td>\n",
       "      <td>158000</td>\n",
       "      <td>140000</td>\n",
       "      <td>2</td>\n",
       "      <td>Individual</td>\n",
       "      <td>Manual</td>\n",
       "      <td>Third Owner</td>\n",
       "      <td>17.7 kmpl</td>\n",
       "      <td>1497 CC</td>\n",
       "      <td>78 bhp</td>\n",
       "      <td>12.7@ 2,700(kgm@ rpm)</td>\n",
       "      <td>5.0</td>\n",
       "    </tr>\n",
       "    <tr>\n",
       "      <th>3</th>\n",
       "      <td>2010</td>\n",
       "      <td>225000</td>\n",
       "      <td>127000</td>\n",
       "      <td>1</td>\n",
       "      <td>Individual</td>\n",
       "      <td>Manual</td>\n",
       "      <td>First Owner</td>\n",
       "      <td>23.0 kmpl</td>\n",
       "      <td>1396 CC</td>\n",
       "      <td>90 bhp</td>\n",
       "      <td>22.4 kgm at 1750-2750rpm</td>\n",
       "      <td>5.0</td>\n",
       "    </tr>\n",
       "    <tr>\n",
       "      <th>4</th>\n",
       "      <td>2007</td>\n",
       "      <td>130000</td>\n",
       "      <td>120000</td>\n",
       "      <td>2</td>\n",
       "      <td>Individual</td>\n",
       "      <td>Manual</td>\n",
       "      <td>First Owner</td>\n",
       "      <td>16.1 kmpl</td>\n",
       "      <td>1298 CC</td>\n",
       "      <td>88.2 bhp</td>\n",
       "      <td>11.5@ 4,500(kgm@ rpm)</td>\n",
       "      <td>5.0</td>\n",
       "    </tr>\n",
       "  </tbody>\n",
       "</table>\n",
       "</div>"
      ],
      "text/plain": [
       "   year  selling_price  km_driven  fuel seller_type transmission  \\\n",
       "0  2014         450000     145500     1  Individual       Manual   \n",
       "1  2014         370000     120000     1  Individual       Manual   \n",
       "2  2006         158000     140000     2  Individual       Manual   \n",
       "3  2010         225000     127000     1  Individual       Manual   \n",
       "4  2007         130000     120000     2  Individual       Manual   \n",
       "\n",
       "          owner     mileage   engine   max_power                    torque  \\\n",
       "0   First Owner   23.4 kmpl  1248 CC      74 bhp            190Nm@ 2000rpm   \n",
       "1  Second Owner  21.14 kmpl  1498 CC  103.52 bhp       250Nm@ 1500-2500rpm   \n",
       "2   Third Owner   17.7 kmpl  1497 CC      78 bhp     12.7@ 2,700(kgm@ rpm)   \n",
       "3   First Owner   23.0 kmpl  1396 CC      90 bhp  22.4 kgm at 1750-2750rpm   \n",
       "4   First Owner   16.1 kmpl  1298 CC    88.2 bhp     11.5@ 4,500(kgm@ rpm)   \n",
       "\n",
       "   seats  \n",
       "0    5.0  \n",
       "1    5.0  \n",
       "2    5.0  \n",
       "3    5.0  \n",
       "4    5.0  "
      ]
     },
     "execution_count": 13,
     "metadata": {},
     "output_type": "execute_result"
    }
   ],
   "source": [
    "data.head()"
   ]
  },
  {
   "cell_type": "code",
   "execution_count": 14,
   "id": "vital-consultation",
   "metadata": {},
   "outputs": [
    {
     "data": {
      "text/plain": [
       "array(['Individual', 'Dealer', 'Trustmark Dealer'], dtype=object)"
      ]
     },
     "execution_count": 14,
     "metadata": {},
     "output_type": "execute_result"
    }
   ],
   "source": [
    "data.seller_type.unique()"
   ]
  },
  {
   "cell_type": "code",
   "execution_count": 15,
   "id": "formed-cinema",
   "metadata": {},
   "outputs": [],
   "source": [
    "dict1 = {'Individual':1,'Dealer': 2 , 'Trustmark Dealer': 3}"
   ]
  },
  {
   "cell_type": "code",
   "execution_count": 16,
   "id": "final-notice",
   "metadata": {},
   "outputs": [],
   "source": [
    "data['seller_type'] = data.seller_type.map(dict1)"
   ]
  },
  {
   "cell_type": "code",
   "execution_count": 17,
   "id": "corporate-neighbor",
   "metadata": {},
   "outputs": [
    {
     "data": {
      "text/html": [
       "<div>\n",
       "<style scoped>\n",
       "    .dataframe tbody tr th:only-of-type {\n",
       "        vertical-align: middle;\n",
       "    }\n",
       "\n",
       "    .dataframe tbody tr th {\n",
       "        vertical-align: top;\n",
       "    }\n",
       "\n",
       "    .dataframe thead th {\n",
       "        text-align: right;\n",
       "    }\n",
       "</style>\n",
       "<table border=\"1\" class=\"dataframe\">\n",
       "  <thead>\n",
       "    <tr style=\"text-align: right;\">\n",
       "      <th></th>\n",
       "      <th>year</th>\n",
       "      <th>selling_price</th>\n",
       "      <th>km_driven</th>\n",
       "      <th>fuel</th>\n",
       "      <th>seller_type</th>\n",
       "      <th>transmission</th>\n",
       "      <th>owner</th>\n",
       "      <th>mileage</th>\n",
       "      <th>engine</th>\n",
       "      <th>max_power</th>\n",
       "      <th>torque</th>\n",
       "      <th>seats</th>\n",
       "    </tr>\n",
       "  </thead>\n",
       "  <tbody>\n",
       "    <tr>\n",
       "      <th>0</th>\n",
       "      <td>2014</td>\n",
       "      <td>450000</td>\n",
       "      <td>145500</td>\n",
       "      <td>1</td>\n",
       "      <td>1</td>\n",
       "      <td>Manual</td>\n",
       "      <td>First Owner</td>\n",
       "      <td>23.4 kmpl</td>\n",
       "      <td>1248 CC</td>\n",
       "      <td>74 bhp</td>\n",
       "      <td>190Nm@ 2000rpm</td>\n",
       "      <td>5.0</td>\n",
       "    </tr>\n",
       "    <tr>\n",
       "      <th>1</th>\n",
       "      <td>2014</td>\n",
       "      <td>370000</td>\n",
       "      <td>120000</td>\n",
       "      <td>1</td>\n",
       "      <td>1</td>\n",
       "      <td>Manual</td>\n",
       "      <td>Second Owner</td>\n",
       "      <td>21.14 kmpl</td>\n",
       "      <td>1498 CC</td>\n",
       "      <td>103.52 bhp</td>\n",
       "      <td>250Nm@ 1500-2500rpm</td>\n",
       "      <td>5.0</td>\n",
       "    </tr>\n",
       "    <tr>\n",
       "      <th>2</th>\n",
       "      <td>2006</td>\n",
       "      <td>158000</td>\n",
       "      <td>140000</td>\n",
       "      <td>2</td>\n",
       "      <td>1</td>\n",
       "      <td>Manual</td>\n",
       "      <td>Third Owner</td>\n",
       "      <td>17.7 kmpl</td>\n",
       "      <td>1497 CC</td>\n",
       "      <td>78 bhp</td>\n",
       "      <td>12.7@ 2,700(kgm@ rpm)</td>\n",
       "      <td>5.0</td>\n",
       "    </tr>\n",
       "    <tr>\n",
       "      <th>3</th>\n",
       "      <td>2010</td>\n",
       "      <td>225000</td>\n",
       "      <td>127000</td>\n",
       "      <td>1</td>\n",
       "      <td>1</td>\n",
       "      <td>Manual</td>\n",
       "      <td>First Owner</td>\n",
       "      <td>23.0 kmpl</td>\n",
       "      <td>1396 CC</td>\n",
       "      <td>90 bhp</td>\n",
       "      <td>22.4 kgm at 1750-2750rpm</td>\n",
       "      <td>5.0</td>\n",
       "    </tr>\n",
       "    <tr>\n",
       "      <th>4</th>\n",
       "      <td>2007</td>\n",
       "      <td>130000</td>\n",
       "      <td>120000</td>\n",
       "      <td>2</td>\n",
       "      <td>1</td>\n",
       "      <td>Manual</td>\n",
       "      <td>First Owner</td>\n",
       "      <td>16.1 kmpl</td>\n",
       "      <td>1298 CC</td>\n",
       "      <td>88.2 bhp</td>\n",
       "      <td>11.5@ 4,500(kgm@ rpm)</td>\n",
       "      <td>5.0</td>\n",
       "    </tr>\n",
       "  </tbody>\n",
       "</table>\n",
       "</div>"
      ],
      "text/plain": [
       "   year  selling_price  km_driven  fuel  seller_type transmission  \\\n",
       "0  2014         450000     145500     1            1       Manual   \n",
       "1  2014         370000     120000     1            1       Manual   \n",
       "2  2006         158000     140000     2            1       Manual   \n",
       "3  2010         225000     127000     1            1       Manual   \n",
       "4  2007         130000     120000     2            1       Manual   \n",
       "\n",
       "          owner     mileage   engine   max_power                    torque  \\\n",
       "0   First Owner   23.4 kmpl  1248 CC      74 bhp            190Nm@ 2000rpm   \n",
       "1  Second Owner  21.14 kmpl  1498 CC  103.52 bhp       250Nm@ 1500-2500rpm   \n",
       "2   Third Owner   17.7 kmpl  1497 CC      78 bhp     12.7@ 2,700(kgm@ rpm)   \n",
       "3   First Owner   23.0 kmpl  1396 CC      90 bhp  22.4 kgm at 1750-2750rpm   \n",
       "4   First Owner   16.1 kmpl  1298 CC    88.2 bhp     11.5@ 4,500(kgm@ rpm)   \n",
       "\n",
       "   seats  \n",
       "0    5.0  \n",
       "1    5.0  \n",
       "2    5.0  \n",
       "3    5.0  \n",
       "4    5.0  "
      ]
     },
     "execution_count": 17,
     "metadata": {},
     "output_type": "execute_result"
    }
   ],
   "source": [
    "data.head()"
   ]
  },
  {
   "cell_type": "code",
   "execution_count": 18,
   "id": "accredited-contact",
   "metadata": {},
   "outputs": [
    {
     "data": {
      "text/plain": [
       "array(['Manual', 'Automatic'], dtype=object)"
      ]
     },
     "execution_count": 18,
     "metadata": {},
     "output_type": "execute_result"
    }
   ],
   "source": [
    "data.transmission.unique()"
   ]
  },
  {
   "cell_type": "code",
   "execution_count": 19,
   "id": "compact-phase",
   "metadata": {},
   "outputs": [],
   "source": [
    "from sklearn.preprocessing import OneHotEncoder\n",
    "encoder = OneHotEncoder()"
   ]
  },
  {
   "cell_type": "code",
   "execution_count": 20,
   "id": "touched-montana",
   "metadata": {},
   "outputs": [],
   "source": [
    "transmission_hot = encoder.fit_transform(data[['transmission']])"
   ]
  },
  {
   "cell_type": "code",
   "execution_count": 21,
   "id": "deadly-scout",
   "metadata": {},
   "outputs": [
    {
     "data": {
      "text/plain": [
       "array([0., 0., 0., ..., 0., 0., 0.])"
      ]
     },
     "execution_count": 21,
     "metadata": {},
     "output_type": "execute_result"
    }
   ],
   "source": [
    "transmission_hot.toarray()[:,0]"
   ]
  },
  {
   "cell_type": "code",
   "execution_count": 22,
   "id": "norwegian-airport",
   "metadata": {},
   "outputs": [],
   "source": [
    "data.transmission = transmission_hot.toarray()[:,0]"
   ]
  },
  {
   "cell_type": "code",
   "execution_count": 23,
   "id": "increasing-arctic",
   "metadata": {},
   "outputs": [
    {
     "data": {
      "text/html": [
       "<div>\n",
       "<style scoped>\n",
       "    .dataframe tbody tr th:only-of-type {\n",
       "        vertical-align: middle;\n",
       "    }\n",
       "\n",
       "    .dataframe tbody tr th {\n",
       "        vertical-align: top;\n",
       "    }\n",
       "\n",
       "    .dataframe thead th {\n",
       "        text-align: right;\n",
       "    }\n",
       "</style>\n",
       "<table border=\"1\" class=\"dataframe\">\n",
       "  <thead>\n",
       "    <tr style=\"text-align: right;\">\n",
       "      <th></th>\n",
       "      <th>year</th>\n",
       "      <th>selling_price</th>\n",
       "      <th>km_driven</th>\n",
       "      <th>fuel</th>\n",
       "      <th>seller_type</th>\n",
       "      <th>transmission</th>\n",
       "      <th>owner</th>\n",
       "      <th>mileage</th>\n",
       "      <th>engine</th>\n",
       "      <th>max_power</th>\n",
       "      <th>torque</th>\n",
       "      <th>seats</th>\n",
       "    </tr>\n",
       "  </thead>\n",
       "  <tbody>\n",
       "    <tr>\n",
       "      <th>0</th>\n",
       "      <td>2014</td>\n",
       "      <td>450000</td>\n",
       "      <td>145500</td>\n",
       "      <td>1</td>\n",
       "      <td>1</td>\n",
       "      <td>0.0</td>\n",
       "      <td>First Owner</td>\n",
       "      <td>23.4 kmpl</td>\n",
       "      <td>1248 CC</td>\n",
       "      <td>74 bhp</td>\n",
       "      <td>190Nm@ 2000rpm</td>\n",
       "      <td>5.0</td>\n",
       "    </tr>\n",
       "    <tr>\n",
       "      <th>1</th>\n",
       "      <td>2014</td>\n",
       "      <td>370000</td>\n",
       "      <td>120000</td>\n",
       "      <td>1</td>\n",
       "      <td>1</td>\n",
       "      <td>0.0</td>\n",
       "      <td>Second Owner</td>\n",
       "      <td>21.14 kmpl</td>\n",
       "      <td>1498 CC</td>\n",
       "      <td>103.52 bhp</td>\n",
       "      <td>250Nm@ 1500-2500rpm</td>\n",
       "      <td>5.0</td>\n",
       "    </tr>\n",
       "    <tr>\n",
       "      <th>2</th>\n",
       "      <td>2006</td>\n",
       "      <td>158000</td>\n",
       "      <td>140000</td>\n",
       "      <td>2</td>\n",
       "      <td>1</td>\n",
       "      <td>0.0</td>\n",
       "      <td>Third Owner</td>\n",
       "      <td>17.7 kmpl</td>\n",
       "      <td>1497 CC</td>\n",
       "      <td>78 bhp</td>\n",
       "      <td>12.7@ 2,700(kgm@ rpm)</td>\n",
       "      <td>5.0</td>\n",
       "    </tr>\n",
       "    <tr>\n",
       "      <th>3</th>\n",
       "      <td>2010</td>\n",
       "      <td>225000</td>\n",
       "      <td>127000</td>\n",
       "      <td>1</td>\n",
       "      <td>1</td>\n",
       "      <td>0.0</td>\n",
       "      <td>First Owner</td>\n",
       "      <td>23.0 kmpl</td>\n",
       "      <td>1396 CC</td>\n",
       "      <td>90 bhp</td>\n",
       "      <td>22.4 kgm at 1750-2750rpm</td>\n",
       "      <td>5.0</td>\n",
       "    </tr>\n",
       "    <tr>\n",
       "      <th>4</th>\n",
       "      <td>2007</td>\n",
       "      <td>130000</td>\n",
       "      <td>120000</td>\n",
       "      <td>2</td>\n",
       "      <td>1</td>\n",
       "      <td>0.0</td>\n",
       "      <td>First Owner</td>\n",
       "      <td>16.1 kmpl</td>\n",
       "      <td>1298 CC</td>\n",
       "      <td>88.2 bhp</td>\n",
       "      <td>11.5@ 4,500(kgm@ rpm)</td>\n",
       "      <td>5.0</td>\n",
       "    </tr>\n",
       "  </tbody>\n",
       "</table>\n",
       "</div>"
      ],
      "text/plain": [
       "   year  selling_price  km_driven  fuel  seller_type  transmission  \\\n",
       "0  2014         450000     145500     1            1           0.0   \n",
       "1  2014         370000     120000     1            1           0.0   \n",
       "2  2006         158000     140000     2            1           0.0   \n",
       "3  2010         225000     127000     1            1           0.0   \n",
       "4  2007         130000     120000     2            1           0.0   \n",
       "\n",
       "          owner     mileage   engine   max_power                    torque  \\\n",
       "0   First Owner   23.4 kmpl  1248 CC      74 bhp            190Nm@ 2000rpm   \n",
       "1  Second Owner  21.14 kmpl  1498 CC  103.52 bhp       250Nm@ 1500-2500rpm   \n",
       "2   Third Owner   17.7 kmpl  1497 CC      78 bhp     12.7@ 2,700(kgm@ rpm)   \n",
       "3   First Owner   23.0 kmpl  1396 CC      90 bhp  22.4 kgm at 1750-2750rpm   \n",
       "4   First Owner   16.1 kmpl  1298 CC    88.2 bhp     11.5@ 4,500(kgm@ rpm)   \n",
       "\n",
       "   seats  \n",
       "0    5.0  \n",
       "1    5.0  \n",
       "2    5.0  \n",
       "3    5.0  \n",
       "4    5.0  "
      ]
     },
     "execution_count": 23,
     "metadata": {},
     "output_type": "execute_result"
    }
   ],
   "source": [
    "data.head()"
   ]
  },
  {
   "cell_type": "code",
   "execution_count": 24,
   "id": "introductory-alaska",
   "metadata": {},
   "outputs": [
    {
     "data": {
      "text/plain": [
       "array(['First Owner', 'Second Owner', 'Third Owner',\n",
       "       'Fourth & Above Owner', 'Test Drive Car'], dtype=object)"
      ]
     },
     "execution_count": 24,
     "metadata": {},
     "output_type": "execute_result"
    }
   ],
   "source": [
    "data.owner.unique()"
   ]
  },
  {
   "cell_type": "code",
   "execution_count": 25,
   "id": "italic-overall",
   "metadata": {},
   "outputs": [],
   "source": [
    "from sklearn.preprocessing import OrdinalEncoder\n",
    "ordinalEncoder = OrdinalEncoder()\n",
    "encoded = ordinalEncoder.fit_transform(data[['owner']])"
   ]
  },
  {
   "cell_type": "code",
   "execution_count": 26,
   "id": "colored-encounter",
   "metadata": {},
   "outputs": [],
   "source": [
    "data['owner']= encoded"
   ]
  },
  {
   "cell_type": "code",
   "execution_count": 27,
   "id": "judicial-breeding",
   "metadata": {},
   "outputs": [
    {
     "data": {
      "text/html": [
       "<div>\n",
       "<style scoped>\n",
       "    .dataframe tbody tr th:only-of-type {\n",
       "        vertical-align: middle;\n",
       "    }\n",
       "\n",
       "    .dataframe tbody tr th {\n",
       "        vertical-align: top;\n",
       "    }\n",
       "\n",
       "    .dataframe thead th {\n",
       "        text-align: right;\n",
       "    }\n",
       "</style>\n",
       "<table border=\"1\" class=\"dataframe\">\n",
       "  <thead>\n",
       "    <tr style=\"text-align: right;\">\n",
       "      <th></th>\n",
       "      <th>year</th>\n",
       "      <th>selling_price</th>\n",
       "      <th>km_driven</th>\n",
       "      <th>fuel</th>\n",
       "      <th>seller_type</th>\n",
       "      <th>transmission</th>\n",
       "      <th>owner</th>\n",
       "      <th>mileage</th>\n",
       "      <th>engine</th>\n",
       "      <th>max_power</th>\n",
       "      <th>torque</th>\n",
       "      <th>seats</th>\n",
       "    </tr>\n",
       "  </thead>\n",
       "  <tbody>\n",
       "    <tr>\n",
       "      <th>0</th>\n",
       "      <td>2014</td>\n",
       "      <td>450000</td>\n",
       "      <td>145500</td>\n",
       "      <td>1</td>\n",
       "      <td>1</td>\n",
       "      <td>0.0</td>\n",
       "      <td>0.0</td>\n",
       "      <td>23.4 kmpl</td>\n",
       "      <td>1248 CC</td>\n",
       "      <td>74 bhp</td>\n",
       "      <td>190Nm@ 2000rpm</td>\n",
       "      <td>5.0</td>\n",
       "    </tr>\n",
       "    <tr>\n",
       "      <th>1</th>\n",
       "      <td>2014</td>\n",
       "      <td>370000</td>\n",
       "      <td>120000</td>\n",
       "      <td>1</td>\n",
       "      <td>1</td>\n",
       "      <td>0.0</td>\n",
       "      <td>2.0</td>\n",
       "      <td>21.14 kmpl</td>\n",
       "      <td>1498 CC</td>\n",
       "      <td>103.52 bhp</td>\n",
       "      <td>250Nm@ 1500-2500rpm</td>\n",
       "      <td>5.0</td>\n",
       "    </tr>\n",
       "    <tr>\n",
       "      <th>2</th>\n",
       "      <td>2006</td>\n",
       "      <td>158000</td>\n",
       "      <td>140000</td>\n",
       "      <td>2</td>\n",
       "      <td>1</td>\n",
       "      <td>0.0</td>\n",
       "      <td>4.0</td>\n",
       "      <td>17.7 kmpl</td>\n",
       "      <td>1497 CC</td>\n",
       "      <td>78 bhp</td>\n",
       "      <td>12.7@ 2,700(kgm@ rpm)</td>\n",
       "      <td>5.0</td>\n",
       "    </tr>\n",
       "    <tr>\n",
       "      <th>3</th>\n",
       "      <td>2010</td>\n",
       "      <td>225000</td>\n",
       "      <td>127000</td>\n",
       "      <td>1</td>\n",
       "      <td>1</td>\n",
       "      <td>0.0</td>\n",
       "      <td>0.0</td>\n",
       "      <td>23.0 kmpl</td>\n",
       "      <td>1396 CC</td>\n",
       "      <td>90 bhp</td>\n",
       "      <td>22.4 kgm at 1750-2750rpm</td>\n",
       "      <td>5.0</td>\n",
       "    </tr>\n",
       "    <tr>\n",
       "      <th>4</th>\n",
       "      <td>2007</td>\n",
       "      <td>130000</td>\n",
       "      <td>120000</td>\n",
       "      <td>2</td>\n",
       "      <td>1</td>\n",
       "      <td>0.0</td>\n",
       "      <td>0.0</td>\n",
       "      <td>16.1 kmpl</td>\n",
       "      <td>1298 CC</td>\n",
       "      <td>88.2 bhp</td>\n",
       "      <td>11.5@ 4,500(kgm@ rpm)</td>\n",
       "      <td>5.0</td>\n",
       "    </tr>\n",
       "  </tbody>\n",
       "</table>\n",
       "</div>"
      ],
      "text/plain": [
       "   year  selling_price  km_driven  fuel  seller_type  transmission  owner  \\\n",
       "0  2014         450000     145500     1            1           0.0    0.0   \n",
       "1  2014         370000     120000     1            1           0.0    2.0   \n",
       "2  2006         158000     140000     2            1           0.0    4.0   \n",
       "3  2010         225000     127000     1            1           0.0    0.0   \n",
       "4  2007         130000     120000     2            1           0.0    0.0   \n",
       "\n",
       "      mileage   engine   max_power                    torque  seats  \n",
       "0   23.4 kmpl  1248 CC      74 bhp            190Nm@ 2000rpm    5.0  \n",
       "1  21.14 kmpl  1498 CC  103.52 bhp       250Nm@ 1500-2500rpm    5.0  \n",
       "2   17.7 kmpl  1497 CC      78 bhp     12.7@ 2,700(kgm@ rpm)    5.0  \n",
       "3   23.0 kmpl  1396 CC      90 bhp  22.4 kgm at 1750-2750rpm    5.0  \n",
       "4   16.1 kmpl  1298 CC    88.2 bhp     11.5@ 4,500(kgm@ rpm)    5.0  "
      ]
     },
     "execution_count": 27,
     "metadata": {},
     "output_type": "execute_result"
    }
   ],
   "source": [
    "data.head()"
   ]
  },
  {
   "cell_type": "code",
   "execution_count": 28,
   "id": "agreed-sitting",
   "metadata": {},
   "outputs": [],
   "source": [
    "data.mileage = data.mileage.str.replace('kmpl','')\n",
    "data.mileage = data.mileage.str.replace('km/kg','')"
   ]
  },
  {
   "cell_type": "code",
   "execution_count": 29,
   "id": "adjacent-regard",
   "metadata": {},
   "outputs": [],
   "source": [
    "data.engine = data.engine.str.replace('CC','')"
   ]
  },
  {
   "cell_type": "code",
   "execution_count": 30,
   "id": "planned-viewer",
   "metadata": {},
   "outputs": [],
   "source": [
    "data.max_power = data.max_power.str.replace(' bhp', '')"
   ]
  },
  {
   "cell_type": "code",
   "execution_count": 31,
   "id": "narrow-qualification",
   "metadata": {},
   "outputs": [
    {
     "data": {
      "text/html": [
       "<div>\n",
       "<style scoped>\n",
       "    .dataframe tbody tr th:only-of-type {\n",
       "        vertical-align: middle;\n",
       "    }\n",
       "\n",
       "    .dataframe tbody tr th {\n",
       "        vertical-align: top;\n",
       "    }\n",
       "\n",
       "    .dataframe thead th {\n",
       "        text-align: right;\n",
       "    }\n",
       "</style>\n",
       "<table border=\"1\" class=\"dataframe\">\n",
       "  <thead>\n",
       "    <tr style=\"text-align: right;\">\n",
       "      <th></th>\n",
       "      <th>year</th>\n",
       "      <th>selling_price</th>\n",
       "      <th>km_driven</th>\n",
       "      <th>fuel</th>\n",
       "      <th>seller_type</th>\n",
       "      <th>transmission</th>\n",
       "      <th>owner</th>\n",
       "      <th>mileage</th>\n",
       "      <th>engine</th>\n",
       "      <th>max_power</th>\n",
       "      <th>torque</th>\n",
       "      <th>seats</th>\n",
       "    </tr>\n",
       "  </thead>\n",
       "  <tbody>\n",
       "    <tr>\n",
       "      <th>0</th>\n",
       "      <td>2014</td>\n",
       "      <td>450000</td>\n",
       "      <td>145500</td>\n",
       "      <td>1</td>\n",
       "      <td>1</td>\n",
       "      <td>0.0</td>\n",
       "      <td>0.0</td>\n",
       "      <td>23.4</td>\n",
       "      <td>1248</td>\n",
       "      <td>74</td>\n",
       "      <td>190Nm@ 2000rpm</td>\n",
       "      <td>5.0</td>\n",
       "    </tr>\n",
       "    <tr>\n",
       "      <th>1</th>\n",
       "      <td>2014</td>\n",
       "      <td>370000</td>\n",
       "      <td>120000</td>\n",
       "      <td>1</td>\n",
       "      <td>1</td>\n",
       "      <td>0.0</td>\n",
       "      <td>2.0</td>\n",
       "      <td>21.14</td>\n",
       "      <td>1498</td>\n",
       "      <td>103.52</td>\n",
       "      <td>250Nm@ 1500-2500rpm</td>\n",
       "      <td>5.0</td>\n",
       "    </tr>\n",
       "    <tr>\n",
       "      <th>2</th>\n",
       "      <td>2006</td>\n",
       "      <td>158000</td>\n",
       "      <td>140000</td>\n",
       "      <td>2</td>\n",
       "      <td>1</td>\n",
       "      <td>0.0</td>\n",
       "      <td>4.0</td>\n",
       "      <td>17.7</td>\n",
       "      <td>1497</td>\n",
       "      <td>78</td>\n",
       "      <td>12.7@ 2,700(kgm@ rpm)</td>\n",
       "      <td>5.0</td>\n",
       "    </tr>\n",
       "    <tr>\n",
       "      <th>3</th>\n",
       "      <td>2010</td>\n",
       "      <td>225000</td>\n",
       "      <td>127000</td>\n",
       "      <td>1</td>\n",
       "      <td>1</td>\n",
       "      <td>0.0</td>\n",
       "      <td>0.0</td>\n",
       "      <td>23.0</td>\n",
       "      <td>1396</td>\n",
       "      <td>90</td>\n",
       "      <td>22.4 kgm at 1750-2750rpm</td>\n",
       "      <td>5.0</td>\n",
       "    </tr>\n",
       "    <tr>\n",
       "      <th>4</th>\n",
       "      <td>2007</td>\n",
       "      <td>130000</td>\n",
       "      <td>120000</td>\n",
       "      <td>2</td>\n",
       "      <td>1</td>\n",
       "      <td>0.0</td>\n",
       "      <td>0.0</td>\n",
       "      <td>16.1</td>\n",
       "      <td>1298</td>\n",
       "      <td>88.2</td>\n",
       "      <td>11.5@ 4,500(kgm@ rpm)</td>\n",
       "      <td>5.0</td>\n",
       "    </tr>\n",
       "  </tbody>\n",
       "</table>\n",
       "</div>"
      ],
      "text/plain": [
       "   year  selling_price  km_driven  fuel  seller_type  transmission  owner  \\\n",
       "0  2014         450000     145500     1            1           0.0    0.0   \n",
       "1  2014         370000     120000     1            1           0.0    2.0   \n",
       "2  2006         158000     140000     2            1           0.0    4.0   \n",
       "3  2010         225000     127000     1            1           0.0    0.0   \n",
       "4  2007         130000     120000     2            1           0.0    0.0   \n",
       "\n",
       "  mileage engine max_power                    torque  seats  \n",
       "0   23.4   1248         74            190Nm@ 2000rpm    5.0  \n",
       "1  21.14   1498     103.52       250Nm@ 1500-2500rpm    5.0  \n",
       "2   17.7   1497         78     12.7@ 2,700(kgm@ rpm)    5.0  \n",
       "3   23.0   1396         90  22.4 kgm at 1750-2750rpm    5.0  \n",
       "4   16.1   1298       88.2     11.5@ 4,500(kgm@ rpm)    5.0  "
      ]
     },
     "execution_count": 31,
     "metadata": {},
     "output_type": "execute_result"
    }
   ],
   "source": [
    "data.head()"
   ]
  },
  {
   "cell_type": "code",
   "execution_count": 32,
   "id": "fiscal-system",
   "metadata": {},
   "outputs": [],
   "source": [
    "data.torque = data.torque.str.extract('(^\\d*)')"
   ]
  },
  {
   "cell_type": "code",
   "execution_count": 33,
   "id": "integrated-bloom",
   "metadata": {},
   "outputs": [
    {
     "data": {
      "text/html": [
       "<div>\n",
       "<style scoped>\n",
       "    .dataframe tbody tr th:only-of-type {\n",
       "        vertical-align: middle;\n",
       "    }\n",
       "\n",
       "    .dataframe tbody tr th {\n",
       "        vertical-align: top;\n",
       "    }\n",
       "\n",
       "    .dataframe thead th {\n",
       "        text-align: right;\n",
       "    }\n",
       "</style>\n",
       "<table border=\"1\" class=\"dataframe\">\n",
       "  <thead>\n",
       "    <tr style=\"text-align: right;\">\n",
       "      <th></th>\n",
       "      <th>year</th>\n",
       "      <th>selling_price</th>\n",
       "      <th>km_driven</th>\n",
       "      <th>fuel</th>\n",
       "      <th>seller_type</th>\n",
       "      <th>transmission</th>\n",
       "      <th>owner</th>\n",
       "      <th>mileage</th>\n",
       "      <th>engine</th>\n",
       "      <th>max_power</th>\n",
       "      <th>torque</th>\n",
       "      <th>seats</th>\n",
       "    </tr>\n",
       "  </thead>\n",
       "  <tbody>\n",
       "    <tr>\n",
       "      <th>0</th>\n",
       "      <td>2014</td>\n",
       "      <td>450000</td>\n",
       "      <td>145500</td>\n",
       "      <td>1</td>\n",
       "      <td>1</td>\n",
       "      <td>0.0</td>\n",
       "      <td>0.0</td>\n",
       "      <td>23.4</td>\n",
       "      <td>1248</td>\n",
       "      <td>74</td>\n",
       "      <td>190</td>\n",
       "      <td>5.0</td>\n",
       "    </tr>\n",
       "    <tr>\n",
       "      <th>1</th>\n",
       "      <td>2014</td>\n",
       "      <td>370000</td>\n",
       "      <td>120000</td>\n",
       "      <td>1</td>\n",
       "      <td>1</td>\n",
       "      <td>0.0</td>\n",
       "      <td>2.0</td>\n",
       "      <td>21.14</td>\n",
       "      <td>1498</td>\n",
       "      <td>103.52</td>\n",
       "      <td>250</td>\n",
       "      <td>5.0</td>\n",
       "    </tr>\n",
       "    <tr>\n",
       "      <th>2</th>\n",
       "      <td>2006</td>\n",
       "      <td>158000</td>\n",
       "      <td>140000</td>\n",
       "      <td>2</td>\n",
       "      <td>1</td>\n",
       "      <td>0.0</td>\n",
       "      <td>4.0</td>\n",
       "      <td>17.7</td>\n",
       "      <td>1497</td>\n",
       "      <td>78</td>\n",
       "      <td>12</td>\n",
       "      <td>5.0</td>\n",
       "    </tr>\n",
       "    <tr>\n",
       "      <th>3</th>\n",
       "      <td>2010</td>\n",
       "      <td>225000</td>\n",
       "      <td>127000</td>\n",
       "      <td>1</td>\n",
       "      <td>1</td>\n",
       "      <td>0.0</td>\n",
       "      <td>0.0</td>\n",
       "      <td>23.0</td>\n",
       "      <td>1396</td>\n",
       "      <td>90</td>\n",
       "      <td>22</td>\n",
       "      <td>5.0</td>\n",
       "    </tr>\n",
       "    <tr>\n",
       "      <th>4</th>\n",
       "      <td>2007</td>\n",
       "      <td>130000</td>\n",
       "      <td>120000</td>\n",
       "      <td>2</td>\n",
       "      <td>1</td>\n",
       "      <td>0.0</td>\n",
       "      <td>0.0</td>\n",
       "      <td>16.1</td>\n",
       "      <td>1298</td>\n",
       "      <td>88.2</td>\n",
       "      <td>11</td>\n",
       "      <td>5.0</td>\n",
       "    </tr>\n",
       "  </tbody>\n",
       "</table>\n",
       "</div>"
      ],
      "text/plain": [
       "   year  selling_price  km_driven  fuel  seller_type  transmission  owner  \\\n",
       "0  2014         450000     145500     1            1           0.0    0.0   \n",
       "1  2014         370000     120000     1            1           0.0    2.0   \n",
       "2  2006         158000     140000     2            1           0.0    4.0   \n",
       "3  2010         225000     127000     1            1           0.0    0.0   \n",
       "4  2007         130000     120000     2            1           0.0    0.0   \n",
       "\n",
       "  mileage engine max_power torque  seats  \n",
       "0   23.4   1248         74    190    5.0  \n",
       "1  21.14   1498     103.52    250    5.0  \n",
       "2   17.7   1497         78     12    5.0  \n",
       "3   23.0   1396         90     22    5.0  \n",
       "4   16.1   1298       88.2     11    5.0  "
      ]
     },
     "execution_count": 33,
     "metadata": {},
     "output_type": "execute_result"
    }
   ],
   "source": [
    "data.head()"
   ]
  },
  {
   "cell_type": "code",
   "execution_count": 34,
   "id": "bulgarian-table",
   "metadata": {},
   "outputs": [
    {
     "data": {
      "text/plain": [
       "year               int64\n",
       "selling_price      int64\n",
       "km_driven          int64\n",
       "fuel               int64\n",
       "seller_type        int64\n",
       "transmission     float64\n",
       "owner            float64\n",
       "mileage           object\n",
       "engine            object\n",
       "max_power         object\n",
       "torque            object\n",
       "seats            float64\n",
       "dtype: object"
      ]
     },
     "execution_count": 34,
     "metadata": {},
     "output_type": "execute_result"
    }
   ],
   "source": [
    "data.dtypes"
   ]
  },
  {
   "cell_type": "code",
   "execution_count": 35,
   "id": "mediterranean-grounds",
   "metadata": {},
   "outputs": [],
   "source": [
    "data.max_power.replace(r'^\\s*$', np.NaN, regex=True,inplace=True)"
   ]
  },
  {
   "cell_type": "code",
   "execution_count": 36,
   "id": "chicken-damages",
   "metadata": {},
   "outputs": [],
   "source": [
    "data.mileage = data.mileage.astype(float)\n",
    "data.engine = data.engine.astype(float)\n",
    "data.max_power = data.max_power.astype(float)\n",
    "data.torque = data.torque.astype(float)"
   ]
  },
  {
   "cell_type": "code",
   "execution_count": 37,
   "id": "committed-material",
   "metadata": {},
   "outputs": [
    {
     "data": {
      "text/plain": [
       "year               int64\n",
       "selling_price      int64\n",
       "km_driven          int64\n",
       "fuel               int64\n",
       "seller_type        int64\n",
       "transmission     float64\n",
       "owner            float64\n",
       "mileage          float64\n",
       "engine           float64\n",
       "max_power        float64\n",
       "torque           float64\n",
       "seats            float64\n",
       "dtype: object"
      ]
     },
     "execution_count": 37,
     "metadata": {},
     "output_type": "execute_result"
    }
   ],
   "source": [
    "data.dtypes"
   ]
  },
  {
   "cell_type": "code",
   "execution_count": 38,
   "id": "auburn-communist",
   "metadata": {},
   "outputs": [],
   "source": [
    "from sklearn.impute import KNNImputer\n",
    "imputer = KNNImputer()"
   ]
  },
  {
   "cell_type": "code",
   "execution_count": 39,
   "id": "monthly-orchestra",
   "metadata": {},
   "outputs": [
    {
     "data": {
      "text/plain": [
       "year               0\n",
       "selling_price      0\n",
       "km_driven          0\n",
       "fuel               0\n",
       "seller_type        0\n",
       "transmission       0\n",
       "owner              0\n",
       "mileage          221\n",
       "engine           221\n",
       "max_power        216\n",
       "torque           222\n",
       "seats            221\n",
       "dtype: int64"
      ]
     },
     "execution_count": 39,
     "metadata": {},
     "output_type": "execute_result"
    }
   ],
   "source": [
    "data.isnull().sum()"
   ]
  },
  {
   "cell_type": "code",
   "execution_count": 40,
   "id": "overall-carroll",
   "metadata": {},
   "outputs": [
    {
     "data": {
      "text/plain": [
       "(8128, 12)"
      ]
     },
     "execution_count": 40,
     "metadata": {},
     "output_type": "execute_result"
    }
   ],
   "source": [
    "data_imputed = imputer.fit_transform(data)\n",
    "data_imputed.shape"
   ]
  },
  {
   "cell_type": "code",
   "execution_count": 41,
   "id": "caring-conversation",
   "metadata": {},
   "outputs": [
    {
     "data": {
      "text/plain": [
       "array([[2.0140e+03, 4.5000e+05, 1.4550e+05, ..., 7.4000e+01, 1.9000e+02,\n",
       "        5.0000e+00],\n",
       "       [2.0140e+03, 3.7000e+05, 1.2000e+05, ..., 1.0352e+02, 2.5000e+02,\n",
       "        5.0000e+00],\n",
       "       [2.0060e+03, 1.5800e+05, 1.4000e+05, ..., 7.8000e+01, 1.2000e+01,\n",
       "        5.0000e+00],\n",
       "       ...,\n",
       "       [2.0090e+03, 3.8200e+05, 1.2000e+05, ..., 7.3900e+01, 1.9000e+02,\n",
       "        5.0000e+00],\n",
       "       [2.0130e+03, 2.9000e+05, 2.5000e+04, ..., 7.0000e+01, 1.4000e+02,\n",
       "        5.0000e+00],\n",
       "       [2.0130e+03, 2.9000e+05, 2.5000e+04, ..., 7.0000e+01, 1.4000e+02,\n",
       "        5.0000e+00]])"
      ]
     },
     "execution_count": 41,
     "metadata": {},
     "output_type": "execute_result"
    }
   ],
   "source": [
    "data_imputed"
   ]
  },
  {
   "cell_type": "code",
   "execution_count": 42,
   "id": "magnetic-approach",
   "metadata": {},
   "outputs": [
    {
     "name": "stdout",
     "output_type": "stream",
     "text": [
      "False\n"
     ]
    }
   ],
   "source": [
    "array_sum = np.sum(data_imputed)\n",
    "array_has_nan = np.isnan(array_sum)\n",
    "print(array_has_nan)"
   ]
  },
  {
   "cell_type": "code",
   "execution_count": 43,
   "id": "diverse-redhead",
   "metadata": {},
   "outputs": [
    {
     "data": {
      "text/plain": [
       "(8128, 12)"
      ]
     },
     "execution_count": 43,
     "metadata": {},
     "output_type": "execute_result"
    }
   ],
   "source": [
    "y = data_imputed[:,1]\n",
    "data_imputed.shape"
   ]
  },
  {
   "cell_type": "code",
   "execution_count": 44,
   "id": "bizarre-uganda",
   "metadata": {},
   "outputs": [
    {
     "name": "stdout",
     "output_type": "stream",
     "text": [
      "[[2.0140e+03 1.4550e+05 1.0000e+00 ... 7.4000e+01 1.9000e+02 5.0000e+00]\n",
      " [2.0140e+03 1.2000e+05 1.0000e+00 ... 1.0352e+02 2.5000e+02 5.0000e+00]\n",
      " [2.0060e+03 1.4000e+05 2.0000e+00 ... 7.8000e+01 1.2000e+01 5.0000e+00]\n",
      " ...\n",
      " [2.0090e+03 1.2000e+05 1.0000e+00 ... 7.3900e+01 1.9000e+02 5.0000e+00]\n",
      " [2.0130e+03 2.5000e+04 1.0000e+00 ... 7.0000e+01 1.4000e+02 5.0000e+00]\n",
      " [2.0130e+03 2.5000e+04 1.0000e+00 ... 7.0000e+01 1.4000e+02 5.0000e+00]]\n"
     ]
    }
   ],
   "source": [
    "X = np.delete(data_imputed,[1],axis=1)\n",
    "print(X)"
   ]
  },
  {
   "cell_type": "code",
   "execution_count": 45,
   "id": "unexpected-orange",
   "metadata": {},
   "outputs": [],
   "source": [
    "X_df = pd.DataFrame(X)\n",
    "y_df = pd.DataFrame(y)"
   ]
  },
  {
   "cell_type": "code",
   "execution_count": 46,
   "id": "rolled-abortion",
   "metadata": {},
   "outputs": [
    {
     "data": {
      "text/plain": [
       "<seaborn.axisgrid.FacetGrid at 0x26f79058fa0>"
      ]
     },
     "execution_count": 46,
     "metadata": {},
     "output_type": "execute_result"
    },
    {
     "data": {
      "image/png": "[encoded data removed]",
      "text/plain": [
       "<Figure size 360x360 with 1 Axes>"
      ]
     },
     "metadata": {
      "needs_background": "light"
     },
     "output_type": "display_data"
    }
   ],
   "source": [
    "sns.displot(data= X_df,x=1)"
   ]
  },
  {
   "cell_type": "code",
   "execution_count": 47,
   "id": "necessary-pleasure",
   "metadata": {
    "scrolled": true
   },
   "outputs": [
    {
     "data": {
      "text/plain": [
       "<Figure size 1440x2160 with 0 Axes>"
      ]
     },
     "metadata": {},
     "output_type": "display_data"
    },
    {
     "data": {
      "image/png": "[encoded data removed]",
      "text/plain": [
       "<Figure size 2160x1080 with 11 Axes>"
      ]
     },
     "metadata": {
      "needs_background": "light"
     },
     "output_type": "display_data"
    }
   ],
   "source": [
    "# let's see how data is distributed for every column\n",
    "plt.figure(figsize=(20,30), facecolor='white')\n",
    "plotnumber =1\n",
    "fig, axes = plt.subplots(ncols=len(X_df.columns), figsize=(30,15))\n",
    "for ax, col in zip(axes, X_df.columns):\n",
    "    ax = plt.subplot(4,4,plotnumber)\n",
    "    sns.histplot(X_df[col], ax=ax)\n",
    "    plotnumber+=1\n",
    "plt.tight_layout() \n",
    "plt.show()"
   ]
  },
  {
   "cell_type": "code",
   "execution_count": 48,
   "id": "boxed-suggestion",
   "metadata": {},
   "outputs": [
    {
     "name": "stdout",
     "output_type": "stream",
     "text": [
      "           VIF\n",
      "0   248.185903\n",
      "1     3.243959\n",
      "2    18.924050\n",
      "3     9.209599\n",
      "4     1.895799\n",
      "5     1.698975\n",
      "6    50.838771\n",
      "7    47.248641\n",
      "8    35.594115\n",
      "9    15.506581\n",
      "10   70.596503\n"
     ]
    }
   ],
   "source": [
    "#To check multicolineraity\n",
    "from statsmodels.stats.outliers_influence import variance_inflation_factor\n",
    "variables = X\n",
    "vif = pd.DataFrame()\n",
    "vif[\"VIF\"] = [variance_inflation_factor(variables, i) for i in range(variables.shape[1])]\n",
    "print(vif)\n"
   ]
  },
  {
   "cell_type": "code",
   "execution_count": 49,
   "id": "prospective-silicon",
   "metadata": {},
   "outputs": [],
   "source": [
    "from sklearn.preprocessing import StandardScaler\n",
    "from sklearn.model_selection import train_test_split"
   ]
  },
  {
   "cell_type": "code",
   "execution_count": 50,
   "id": "following-assembly",
   "metadata": {},
   "outputs": [],
   "source": [
    "X_train, X_test, y_train, y_test = train_test_split(\n",
    "     X, y, test_size=0.33, random_state=42)"
   ]
  },
  {
   "cell_type": "code",
   "execution_count": 51,
   "id": "olive-crossing",
   "metadata": {},
   "outputs": [],
   "source": [
    "scaler = StandardScaler()\n",
    "X_scaled = scaler.fit_transform(X_train)"
   ]
  },
  {
   "cell_type": "code",
   "execution_count": 52,
   "id": "accompanied-council",
   "metadata": {},
   "outputs": [],
   "source": [
    "from sklearn.linear_model import LinearRegression\n",
    "linearRegModel = LinearRegression()"
   ]
  },
  {
   "cell_type": "code",
   "execution_count": 53,
   "id": "hungarian-bankruptcy",
   "metadata": {},
   "outputs": [
    {
     "data": {
      "text/plain": [
       "LinearRegression()"
      ]
     },
     "execution_count": 53,
     "metadata": {},
     "output_type": "execute_result"
    }
   ],
   "source": [
    "linearRegModel.fit(X_scaled,y_train)"
   ]
  },
  {
   "cell_type": "code",
   "execution_count": 54,
   "id": "norwegian-bicycle",
   "metadata": {},
   "outputs": [],
   "source": [
    "import pickle\n",
    "modelname = 'LinearReg.pickle'\n",
    "scalername = 'LinearScaler.pickle'\n",
    "pickle.dump(linearRegModel,open(modelname, 'wb'))\n",
    "pickle.dump(scaler,open(scalername,'wb'))"
   ]
  },
  {
   "cell_type": "code",
   "execution_count": 55,
   "id": "alive-moses",
   "metadata": {},
   "outputs": [],
   "source": [
    "# prediction using the saved model\n",
    "loaded_model = pickle.load(open(modelname, 'rb'))\n",
    "scaler = pickle.load(open(scalername, 'rb'))\n",
    "X_test_scaled = scaler.transform(X_test)\n",
    "y_pred = loaded_model.predict(X_test_scaled)"
   ]
  },
  {
   "cell_type": "code",
   "execution_count": 56,
   "id": "representative-playlist",
   "metadata": {},
   "outputs": [],
   "source": [
    "from sklearn.metrics import r2_score"
   ]
  },
  {
   "cell_type": "code",
   "execution_count": 57,
   "id": "outer-village",
   "metadata": {},
   "outputs": [
    {
     "data": {
      "text/plain": [
       "0.6727835850732036"
      ]
     },
     "execution_count": 57,
     "metadata": {},
     "output_type": "execute_result"
    }
   ],
   "source": [
    "r2_score(y_test,y_pred)"
   ]
  },
  {
   "cell_type": "code",
   "execution_count": 58,
   "id": "cross-costs",
   "metadata": {},
   "outputs": [
    {
     "data": {
      "text/plain": [
       "0.6687250162875473"
      ]
     },
     "execution_count": 58,
     "metadata": {},
     "output_type": "execute_result"
    }
   ],
   "source": [
    "loaded_model.score(X_scaled,y_train)"
   ]
  },
  {
   "cell_type": "code",
   "execution_count": 59,
   "id": "pediatric-receiver",
   "metadata": {},
   "outputs": [
    {
     "data": {
      "text/plain": [
       "0.6727835850732036"
      ]
     },
     "execution_count": 59,
     "metadata": {},
     "output_type": "execute_result"
    }
   ],
   "source": [
    "loaded_model.score(X_test_scaled,y_test)"
   ]
  },
  {
   "cell_type": "code",
   "execution_count": 60,
   "id": "broke-mainland",
   "metadata": {},
   "outputs": [],
   "source": [
    "# Let's create a function to create adjusted R-Squared\n",
    "def adj_r2(x,y,model):\n",
    "    r2 = model.score(x,y)\n",
    "    n = x.shape[0]\n",
    "    p = x.shape[1]\n",
    "    adjusted_r2 = 1-(1-r2)*(n-1)/(n-p-1)\n",
    "    return adjusted_r2"
   ]
  },
  {
   "cell_type": "code",
   "execution_count": 61,
   "id": "approximate-intake",
   "metadata": {},
   "outputs": [
    {
     "data": {
      "text/plain": [
       "0.671436007175714"
      ]
     },
     "execution_count": 61,
     "metadata": {},
     "output_type": "execute_result"
    }
   ],
   "source": [
    "adj_r2(X_test_scaled,y_test,loaded_model)"
   ]
  },
  {
   "cell_type": "code",
   "execution_count": 62,
   "id": "digital-testing",
   "metadata": {},
   "outputs": [],
   "source": [
    "from sklearn.preprocessing import PolynomialFeatures"
   ]
  },
  {
   "cell_type": "code",
   "execution_count": 63,
   "id": "optional-perfume",
   "metadata": {},
   "outputs": [
    {
     "data": {
      "text/plain": [
       "(5445, 67)"
      ]
     },
     "execution_count": 63,
     "metadata": {},
     "output_type": "execute_result"
    }
   ],
   "source": [
    "poly_reg = PolynomialFeatures(degree = 2,interaction_only=True)\n",
    "X_poly = poly_reg.fit_transform(X_scaled)\n",
    "X_poly.shape"
   ]
  },
  {
   "cell_type": "code",
   "execution_count": 64,
   "id": "rotary-option",
   "metadata": {},
   "outputs": [
    {
     "name": "stdout",
     "output_type": "stream",
     "text": [
      "0.9061348426918265\n",
      "0.9037298845504699\n"
     ]
    }
   ],
   "source": [
    "linearRegModel.fit(X_poly,y_train)\n",
    "X_poly_test_scaled = poly_reg.transform(X_test_scaled)\n",
    "#print(X_poly_test_scaled)\n",
    "poly_pred = linearRegModel.predict(X_poly_test_scaled)\n",
    "print(r2_score(y_test,poly_pred))\n",
    "print(adj_r2(X_poly_test_scaled,y_test,linearRegModel))"
   ]
  },
  {
   "cell_type": "code",
   "execution_count": 65,
   "id": "drawn-prevention",
   "metadata": {},
   "outputs": [],
   "source": [
    "from sklearn.linear_model  import Ridge,Lasso,RidgeCV, LassoCV, ElasticNet, ElasticNetCV"
   ]
  },
  {
   "cell_type": "code",
   "execution_count": 66,
   "id": "adverse-interference",
   "metadata": {},
   "outputs": [
    {
     "data": {
      "text/plain": [
       "RidgeCV(alphas=array([0.7694741 , 4.54349746, 7.89125156, 1.64258408, 8.73447587,\n",
       "       7.60409291, 2.86763789, 3.09406294, 2.45632342, 6.82892858,\n",
       "       4.10008751, 8.38703503, 5.58527858, 1.31453901, 9.22639104,\n",
       "       7.35047696, 7.63990054, 1.91922092, 4.06871654, 4.67146679,\n",
       "       8.04376669, 3.33938802, 7.89663757, 5.08052565, 4.25457797,\n",
       "       4.32874881, 1.98493693, 2.34421664, 5.39444961, 6.09896651,\n",
       "       2.96311447, 5.77948652, 1.45972885, 9.67309193, 8.42207827,\n",
       "       2.92413005, 6.76435926, 9.74344097, 0.85181312, 6.94201915,\n",
       "       7.82249276, 0.39460619, 7.73678826, 3.00072161, 4.12947144,\n",
       "       6.75797093, 1.95411485, 3.42223078, 9.07322749, 4.0650943 ]),\n",
       "        cv=10)"
      ]
     },
     "execution_count": 66,
     "metadata": {},
     "output_type": "execute_result"
    }
   ],
   "source": [
    "# Using Ridge regression model\n",
    "# RidgeCV will return best alpha and coefficients after performing 10 cross validations. \n",
    "# We will pass an array of random numbers for ridgeCV to select best alpha from them\n",
    "\n",
    "alphas = np.random.uniform(low=0, high=10, size=(50,))\n",
    "ridgecv = RidgeCV(alphas = alphas,cv=10)\n",
    "ridgecv.fit(X_scaled, y_train)"
   ]
  },
  {
   "cell_type": "code",
   "execution_count": 67,
   "id": "designed-renewal",
   "metadata": {},
   "outputs": [
    {
     "data": {
      "text/plain": [
       "9.7434409719484"
      ]
     },
     "execution_count": 67,
     "metadata": {},
     "output_type": "execute_result"
    }
   ],
   "source": [
    "ridgecv.alpha_"
   ]
  },
  {
   "cell_type": "code",
   "execution_count": 68,
   "id": "apparent-intellectual",
   "metadata": {},
   "outputs": [
    {
     "name": "stdout",
     "output_type": "stream",
     "text": [
      "0.9060772568076568\n"
     ]
    }
   ],
   "source": [
    "ridgeModel = Ridge(alpha=ridgecv.alpha_)\n",
    "ridgeModel.fit(X_poly, y_train)\n",
    "ridge_pred = ridgeModel.predict(X_poly_test_scaled)\n",
    "print(r2_score(y_test,ridge_pred))"
   ]
  },
  {
   "cell_type": "code",
   "execution_count": 69,
   "id": "sudden-mills",
   "metadata": {},
   "outputs": [
    {
     "data": {
      "text/plain": [
       "LassoCV(cv=10, max_iter=100000)"
      ]
     },
     "execution_count": 69,
     "metadata": {},
     "output_type": "execute_result"
    }
   ],
   "source": [
    "# Lasso Regularization\n",
    "# LassoCV will return best alpha and coefficients after performing 10 cross validations\n",
    "lasscv = LassoCV(alphas = None,cv =10, max_iter = 100000)\n",
    "lasscv.fit(X_scaled, y_train)"
   ]
  },
  {
   "cell_type": "code",
   "execution_count": 70,
   "id": "analyzed-charleston",
   "metadata": {},
   "outputs": [
    {
     "data": {
      "text/plain": [
       "10389.233595770873"
      ]
     },
     "execution_count": 70,
     "metadata": {},
     "output_type": "execute_result"
    }
   ],
   "source": [
    "lasscv.alpha_"
   ]
  },
  {
   "cell_type": "code",
   "execution_count": 71,
   "id": "smaller-tiger",
   "metadata": {},
   "outputs": [
    {
     "name": "stdout",
     "output_type": "stream",
     "text": [
      "0.8956124419613476\n",
      "0.8929378850249844\n"
     ]
    }
   ],
   "source": [
    "lassoModel = Lasso(alpha=lasscv.alpha_)\n",
    "lassoModel.fit(X_poly, y_train)\n",
    "lasso_pred = lassoModel.predict(X_poly_test_scaled)\n",
    "print(r2_score(y_test,lasso_pred))\n",
    "print(adj_r2(X_poly_test_scaled,y_test,lassoModel))"
   ]
  },
  {
   "cell_type": "code",
   "execution_count": 72,
   "id": "cubic-delay",
   "metadata": {},
   "outputs": [
    {
     "data": {
      "text/plain": [
       "ElasticNetCV(cv=100, l1_ratio=0.1, max_iter=100000)"
      ]
     },
     "execution_count": 72,
     "metadata": {},
     "output_type": "execute_result"
    }
   ],
   "source": [
    "# Elastic net\n",
    "elasticCV = ElasticNetCV(cv =100,max_iter = 100000,l1_ratio=0.1)\n",
    "elasticCV.fit(X_poly, y_train)"
   ]
  },
  {
   "cell_type": "code",
   "execution_count": 73,
   "id": "fourth-excuse",
   "metadata": {},
   "outputs": [
    {
     "name": "stdout",
     "output_type": "stream",
     "text": [
      "11146.33622220892\n",
      "0.1\n"
     ]
    }
   ],
   "source": [
    "print(elasticCV.alpha_)\n",
    "print(elasticCV.l1_ratio_)"
   ]
  },
  {
   "cell_type": "code",
   "execution_count": 74,
   "id": "behind-marina",
   "metadata": {},
   "outputs": [
    {
     "name": "stderr",
     "output_type": "stream",
     "text": [
      "C:\\Users\\visah\\Anaconda3\\envs\\ML\\lib\\site-packages\\sklearn\\linear_model\\_coordinate_descent.py:525: UserWarning: Coordinate descent with alpha=0 may lead to unexpected results and is discouraged.\n",
      "  model = cd_fast.enet_coordinate_descent_gram(\n",
      "C:\\Users\\visah\\Anaconda3\\envs\\ML\\lib\\site-packages\\sklearn\\linear_model\\_coordinate_descent.py:525: UserWarning: Coordinate descent with alpha=0 may lead to unexpected results and is discouraged.\n",
      "  model = cd_fast.enet_coordinate_descent_gram(\n",
      "C:\\Users\\visah\\Anaconda3\\envs\\ML\\lib\\site-packages\\sklearn\\linear_model\\_coordinate_descent.py:525: UserWarning: Coordinate descent with alpha=0 may lead to unexpected results and is discouraged.\n",
      "  model = cd_fast.enet_coordinate_descent_gram(\n",
      "C:\\Users\\visah\\Anaconda3\\envs\\ML\\lib\\site-packages\\sklearn\\linear_model\\_coordinate_descent.py:525: UserWarning: Coordinate descent with alpha=0 may lead to unexpected results and is discouraged.\n",
      "  model = cd_fast.enet_coordinate_descent_gram(\n",
      "C:\\Users\\visah\\Anaconda3\\envs\\ML\\lib\\site-packages\\sklearn\\linear_model\\_coordinate_descent.py:525: ConvergenceWarning: Objective did not converge. You might want to increase the number of iterations. Duality gap: 1401647794771620.8, tolerance: 310915940072.9885\n",
      "  model = cd_fast.enet_coordinate_descent_gram(\n",
      "C:\\Users\\visah\\Anaconda3\\envs\\ML\\lib\\site-packages\\sklearn\\linear_model\\_coordinate_descent.py:525: UserWarning: Coordinate descent with alpha=0 may lead to unexpected results and is discouraged.\n",
      "  model = cd_fast.enet_coordinate_descent_gram(\n",
      "C:\\Users\\visah\\Anaconda3\\envs\\ML\\lib\\site-packages\\sklearn\\linear_model\\_coordinate_descent.py:525: ConvergenceWarning: Objective did not converge. You might want to increase the number of iterations. Duality gap: 1386930501465844.0, tolerance: 309408159613.0196\n",
      "  model = cd_fast.enet_coordinate_descent_gram(\n",
      "C:\\Users\\visah\\Anaconda3\\envs\\ML\\lib\\site-packages\\sklearn\\linear_model\\_coordinate_descent.py:525: UserWarning: Coordinate descent with alpha=0 may lead to unexpected results and is discouraged.\n",
      "  model = cd_fast.enet_coordinate_descent_gram(\n",
      "C:\\Users\\visah\\Anaconda3\\envs\\ML\\lib\\site-packages\\sklearn\\linear_model\\_coordinate_descent.py:525: ConvergenceWarning: Objective did not converge. You might want to increase the number of iterations. Duality gap: 1439536691139302.2, tolerance: 321143569150.35394\n",
      "  model = cd_fast.enet_coordinate_descent_gram(\n",
      "C:\\Users\\visah\\Anaconda3\\envs\\ML\\lib\\site-packages\\sklearn\\linear_model\\_coordinate_descent.py:525: ConvergenceWarning: Objective did not converge. You might want to increase the number of iterations. Duality gap: 1413323441167143.5, tolerance: 314861401340.46423\n",
      "  model = cd_fast.enet_coordinate_descent_gram(\n",
      "C:\\Users\\visah\\Anaconda3\\envs\\ML\\lib\\site-packages\\sklearn\\linear_model\\_coordinate_descent.py:525: UserWarning: Coordinate descent with alpha=0 may lead to unexpected results and is discouraged.\n",
      "  model = cd_fast.enet_coordinate_descent_gram(\n",
      "C:\\Users\\visah\\Anaconda3\\envs\\ML\\lib\\site-packages\\sklearn\\linear_model\\_coordinate_descent.py:525: ConvergenceWarning: Objective did not converge. You might want to increase the number of iterations. Duality gap: 1401148535315523.5, tolerance: 311896535305.4743\n",
      "  model = cd_fast.enet_coordinate_descent_gram(\n",
      "C:\\Users\\visah\\Anaconda3\\envs\\ML\\lib\\site-packages\\sklearn\\linear_model\\_coordinate_descent.py:525: UserWarning: Coordinate descent with alpha=0 may lead to unexpected results and is discouraged.\n",
      "  model = cd_fast.enet_coordinate_descent_gram(\n",
      "C:\\Users\\visah\\Anaconda3\\envs\\ML\\lib\\site-packages\\sklearn\\linear_model\\_coordinate_descent.py:525: ConvergenceWarning: Objective did not converge. You might want to increase the number of iterations. Duality gap: 1387017885618743.0, tolerance: 308907246258.4861\n",
      "  model = cd_fast.enet_coordinate_descent_gram(\n",
      "C:\\Users\\visah\\Anaconda3\\envs\\ML\\lib\\site-packages\\sklearn\\linear_model\\_coordinate_descent.py:525: UserWarning: Coordinate descent with alpha=0 may lead to unexpected results and is discouraged.\n",
      "  model = cd_fast.enet_coordinate_descent_gram(\n",
      "C:\\Users\\visah\\Anaconda3\\envs\\ML\\lib\\site-packages\\sklearn\\linear_model\\_coordinate_descent.py:525: ConvergenceWarning: Objective did not converge. You might want to increase the number of iterations. Duality gap: 861028226061202.0, tolerance: 310915940072.9885\n",
      "  model = cd_fast.enet_coordinate_descent_gram(\n",
      "C:\\Users\\visah\\Anaconda3\\envs\\ML\\lib\\site-packages\\sklearn\\linear_model\\_coordinate_descent.py:525: ConvergenceWarning: Objective did not converge. You might want to increase the number of iterations. Duality gap: 843739278341736.4, tolerance: 309408159613.0196\n",
      "  model = cd_fast.enet_coordinate_descent_gram(\n",
      "C:\\Users\\visah\\Anaconda3\\envs\\ML\\lib\\site-packages\\sklearn\\linear_model\\_coordinate_descent.py:525: UserWarning: Coordinate descent with alpha=0 may lead to unexpected results and is discouraged.\n",
      "  model = cd_fast.enet_coordinate_descent_gram(\n",
      "C:\\Users\\visah\\Anaconda3\\envs\\ML\\lib\\site-packages\\sklearn\\linear_model\\_coordinate_descent.py:525: ConvergenceWarning: Objective did not converge. You might want to increase the number of iterations. Duality gap: 861939307853991.2, tolerance: 314861401340.46423\n",
      "  model = cd_fast.enet_coordinate_descent_gram(\n",
      "C:\\Users\\visah\\Anaconda3\\envs\\ML\\lib\\site-packages\\sklearn\\linear_model\\_coordinate_descent.py:525: UserWarning: Coordinate descent with alpha=0 may lead to unexpected results and is discouraged.\n",
      "  model = cd_fast.enet_coordinate_descent_gram(\n",
      "C:\\Users\\visah\\Anaconda3\\envs\\ML\\lib\\site-packages\\sklearn\\linear_model\\_coordinate_descent.py:525: ConvergenceWarning: Objective did not converge. You might want to increase the number of iterations. Duality gap: 871258154501441.6, tolerance: 321143569150.35394\n",
      "  model = cd_fast.enet_coordinate_descent_gram(\n",
      "C:\\Users\\visah\\Anaconda3\\envs\\ML\\lib\\site-packages\\sklearn\\linear_model\\_coordinate_descent.py:525: UserWarning: Coordinate descent with alpha=0 may lead to unexpected results and is discouraged.\n",
      "  model = cd_fast.enet_coordinate_descent_gram(\n",
      "C:\\Users\\visah\\Anaconda3\\envs\\ML\\lib\\site-packages\\sklearn\\linear_model\\_coordinate_descent.py:525: ConvergenceWarning: Objective did not converge. You might want to increase the number of iterations. Duality gap: 1431003044244267.0, tolerance: 319090951927.6992\n",
      "  model = cd_fast.enet_coordinate_descent_gram(\n",
      "C:\\Users\\visah\\Anaconda3\\envs\\ML\\lib\\site-packages\\sklearn\\linear_model\\_coordinate_descent.py:525: UserWarning: Coordinate descent with alpha=0 may lead to unexpected results and is discouraged.\n",
      "  model = cd_fast.enet_coordinate_descent_gram(\n",
      "C:\\Users\\visah\\Anaconda3\\envs\\ML\\lib\\site-packages\\sklearn\\linear_model\\_coordinate_descent.py:525: ConvergenceWarning: Objective did not converge. You might want to increase the number of iterations. Duality gap: 1344979377286108.8, tolerance: 297190399129.77264\n",
      "  model = cd_fast.enet_coordinate_descent_gram(\n",
      "C:\\Users\\visah\\Anaconda3\\envs\\ML\\lib\\site-packages\\sklearn\\linear_model\\_coordinate_descent.py:525: UserWarning: Coordinate descent with alpha=0 may lead to unexpected results and is discouraged.\n",
      "  model = cd_fast.enet_coordinate_descent_gram(\n",
      "C:\\Users\\visah\\Anaconda3\\envs\\ML\\lib\\site-packages\\sklearn\\linear_model\\_coordinate_descent.py:525: ConvergenceWarning: Objective did not converge. You might want to increase the number of iterations. Duality gap: 857068414839602.9, tolerance: 311896535305.4743\n",
      "  model = cd_fast.enet_coordinate_descent_gram(\n",
      "C:\\Users\\visah\\Anaconda3\\envs\\ML\\lib\\site-packages\\sklearn\\linear_model\\_coordinate_descent.py:525: UserWarning: Coordinate descent with alpha=0 may lead to unexpected results and is discouraged.\n",
      "  model = cd_fast.enet_coordinate_descent_gram(\n",
      "C:\\Users\\visah\\Anaconda3\\envs\\ML\\lib\\site-packages\\sklearn\\linear_model\\_coordinate_descent.py:525: ConvergenceWarning: Objective did not converge. You might want to increase the number of iterations. Duality gap: 846179018686504.6, tolerance: 308907246258.4861\n",
      "  model = cd_fast.enet_coordinate_descent_gram(\n",
      "C:\\Users\\visah\\Anaconda3\\envs\\ML\\lib\\site-packages\\sklearn\\linear_model\\_coordinate_descent.py:525: UserWarning: Coordinate descent with alpha=0 may lead to unexpected results and is discouraged.\n",
      "  model = cd_fast.enet_coordinate_descent_gram(\n",
      "C:\\Users\\visah\\Anaconda3\\envs\\ML\\lib\\site-packages\\sklearn\\linear_model\\_coordinate_descent.py:525: ConvergenceWarning: Objective did not converge. You might want to increase the number of iterations. Duality gap: 367109286632979.44, tolerance: 309408159613.0196\n",
      "  model = cd_fast.enet_coordinate_descent_gram(\n",
      "C:\\Users\\visah\\Anaconda3\\envs\\ML\\lib\\site-packages\\sklearn\\linear_model\\_coordinate_descent.py:525: ConvergenceWarning: Objective did not converge. You might want to increase the number of iterations. Duality gap: 372305077659718.25, tolerance: 310915940072.9885\n",
      "  model = cd_fast.enet_coordinate_descent_gram(\n",
      "C:\\Users\\visah\\Anaconda3\\envs\\ML\\lib\\site-packages\\sklearn\\linear_model\\_coordinate_descent.py:525: UserWarning: Coordinate descent with alpha=0 may lead to unexpected results and is discouraged.\n",
      "  model = cd_fast.enet_coordinate_descent_gram(\n",
      "C:\\Users\\visah\\Anaconda3\\envs\\ML\\lib\\site-packages\\sklearn\\linear_model\\_coordinate_descent.py:525: UserWarning: Coordinate descent with alpha=0 may lead to unexpected results and is discouraged.\n",
      "  model = cd_fast.enet_coordinate_descent_gram(\n"
     ]
    },
    {
     "name": "stderr",
     "output_type": "stream",
     "text": [
      "C:\\Users\\visah\\Anaconda3\\envs\\ML\\lib\\site-packages\\sklearn\\linear_model\\_coordinate_descent.py:525: ConvergenceWarning: Objective did not converge. You might want to increase the number of iterations. Duality gap: 375659076823260.6, tolerance: 314861401340.46423\n",
      "  model = cd_fast.enet_coordinate_descent_gram(\n",
      "C:\\Users\\visah\\Anaconda3\\envs\\ML\\lib\\site-packages\\sklearn\\linear_model\\_coordinate_descent.py:525: ConvergenceWarning: Objective did not converge. You might want to increase the number of iterations. Duality gap: 870299665611415.0, tolerance: 319090951927.6992\n",
      "  model = cd_fast.enet_coordinate_descent_gram(\n",
      "C:\\Users\\visah\\Anaconda3\\envs\\ML\\lib\\site-packages\\sklearn\\linear_model\\_coordinate_descent.py:525: UserWarning: Coordinate descent with alpha=0 may lead to unexpected results and is discouraged.\n",
      "  model = cd_fast.enet_coordinate_descent_gram(\n",
      "C:\\Users\\visah\\Anaconda3\\envs\\ML\\lib\\site-packages\\sklearn\\linear_model\\_coordinate_descent.py:525: ConvergenceWarning: Objective did not converge. You might want to increase the number of iterations. Duality gap: 836470562733730.0, tolerance: 297190399129.77264\n",
      "  model = cd_fast.enet_coordinate_descent_gram(\n",
      "C:\\Users\\visah\\Anaconda3\\envs\\ML\\lib\\site-packages\\sklearn\\linear_model\\_coordinate_descent.py:525: ConvergenceWarning: Objective did not converge. You might want to increase the number of iterations. Duality gap: 375501984722944.25, tolerance: 321143569150.35394\n",
      "  model = cd_fast.enet_coordinate_descent_gram(\n",
      "C:\\Users\\visah\\Anaconda3\\envs\\ML\\lib\\site-packages\\sklearn\\linear_model\\_coordinate_descent.py:525: UserWarning: Coordinate descent with alpha=0 may lead to unexpected results and is discouraged.\n",
      "  model = cd_fast.enet_coordinate_descent_gram(\n",
      "C:\\Users\\visah\\Anaconda3\\envs\\ML\\lib\\site-packages\\sklearn\\linear_model\\_coordinate_descent.py:525: UserWarning: Coordinate descent with alpha=0 may lead to unexpected results and is discouraged.\n",
      "  model = cd_fast.enet_coordinate_descent_gram(\n",
      "C:\\Users\\visah\\Anaconda3\\envs\\ML\\lib\\site-packages\\sklearn\\linear_model\\_coordinate_descent.py:525: UserWarning: Coordinate descent with alpha=0 may lead to unexpected results and is discouraged.\n",
      "  model = cd_fast.enet_coordinate_descent_gram(\n",
      "C:\\Users\\visah\\Anaconda3\\envs\\ML\\lib\\site-packages\\sklearn\\linear_model\\_coordinate_descent.py:525: ConvergenceWarning: Objective did not converge. You might want to increase the number of iterations. Duality gap: 376064748876604.0, tolerance: 311896535305.4743\n",
      "  model = cd_fast.enet_coordinate_descent_gram(\n",
      "C:\\Users\\visah\\Anaconda3\\envs\\ML\\lib\\site-packages\\sklearn\\linear_model\\_coordinate_descent.py:525: UserWarning: Coordinate descent with alpha=0 may lead to unexpected results and is discouraged.\n",
      "  model = cd_fast.enet_coordinate_descent_gram(\n",
      "C:\\Users\\visah\\Anaconda3\\envs\\ML\\lib\\site-packages\\sklearn\\linear_model\\_coordinate_descent.py:525: ConvergenceWarning: Objective did not converge. You might want to increase the number of iterations. Duality gap: 1334653530335265.8, tolerance: 295647207669.0527\n",
      "  model = cd_fast.enet_coordinate_descent_gram(\n",
      "C:\\Users\\visah\\Anaconda3\\envs\\ML\\lib\\site-packages\\sklearn\\linear_model\\_coordinate_descent.py:525: UserWarning: Coordinate descent with alpha=0 may lead to unexpected results and is discouraged.\n",
      "  model = cd_fast.enet_coordinate_descent_gram(\n",
      "C:\\Users\\visah\\Anaconda3\\envs\\ML\\lib\\site-packages\\sklearn\\linear_model\\_coordinate_descent.py:525: ConvergenceWarning: Objective did not converge. You might want to increase the number of iterations. Duality gap: 1421169412406029.8, tolerance: 316774257543.83514\n",
      "  model = cd_fast.enet_coordinate_descent_gram(\n",
      "C:\\Users\\visah\\Anaconda3\\envs\\ML\\lib\\site-packages\\sklearn\\linear_model\\_coordinate_descent.py:525: UserWarning: Coordinate descent with alpha=0 may lead to unexpected results and is discouraged.\n",
      "  model = cd_fast.enet_coordinate_descent_gram(\n",
      "C:\\Users\\visah\\Anaconda3\\envs\\ML\\lib\\site-packages\\sklearn\\linear_model\\_coordinate_descent.py:525: ConvergenceWarning: Objective did not converge. You might want to increase the number of iterations. Duality gap: 1411654045219030.2, tolerance: 315056613146.7937\n",
      "  model = cd_fast.enet_coordinate_descent_gram(\n",
      "C:\\Users\\visah\\Anaconda3\\envs\\ML\\lib\\site-packages\\sklearn\\linear_model\\_coordinate_descent.py:525: UserWarning: Coordinate descent with alpha=0 may lead to unexpected results and is discouraged.\n",
      "  model = cd_fast.enet_coordinate_descent_gram(\n",
      "C:\\Users\\visah\\Anaconda3\\envs\\ML\\lib\\site-packages\\sklearn\\linear_model\\_coordinate_descent.py:525: ConvergenceWarning: Objective did not converge. You might want to increase the number of iterations. Duality gap: 367175312364342.5, tolerance: 308907246258.4861\n",
      "  model = cd_fast.enet_coordinate_descent_gram(\n",
      "C:\\Users\\visah\\Anaconda3\\envs\\ML\\lib\\site-packages\\sklearn\\linear_model\\_coordinate_descent.py:525: ConvergenceWarning: Objective did not converge. You might want to increase the number of iterations. Duality gap: 1402303384417277.0, tolerance: 312029573256.3955\n",
      "  model = cd_fast.enet_coordinate_descent_gram(\n",
      "C:\\Users\\visah\\Anaconda3\\envs\\ML\\lib\\site-packages\\sklearn\\linear_model\\_coordinate_descent.py:525: UserWarning: Coordinate descent with alpha=0 may lead to unexpected results and is discouraged.\n",
      "  model = cd_fast.enet_coordinate_descent_gram(\n",
      "C:\\Users\\visah\\Anaconda3\\envs\\ML\\lib\\site-packages\\sklearn\\linear_model\\_coordinate_descent.py:525: UserWarning: Coordinate descent with alpha=0 may lead to unexpected results and is discouraged.\n",
      "  model = cd_fast.enet_coordinate_descent_gram(\n",
      "C:\\Users\\visah\\Anaconda3\\envs\\ML\\lib\\site-packages\\sklearn\\linear_model\\_coordinate_descent.py:525: ConvergenceWarning: Objective did not converge. You might want to increase the number of iterations. Duality gap: 825911215961911.9, tolerance: 295647207669.0527\n",
      "  model = cd_fast.enet_coordinate_descent_gram(\n",
      "C:\\Users\\visah\\Anaconda3\\envs\\ML\\lib\\site-packages\\sklearn\\linear_model\\_coordinate_descent.py:525: UserWarning: Coordinate descent with alpha=0 may lead to unexpected results and is discouraged.\n",
      "  model = cd_fast.enet_coordinate_descent_gram(\n",
      "C:\\Users\\visah\\Anaconda3\\envs\\ML\\lib\\site-packages\\sklearn\\linear_model\\_coordinate_descent.py:525: ConvergenceWarning: Objective did not converge. You might want to increase the number of iterations. Duality gap: 865142016572494.4, tolerance: 316774257543.83514\n",
      "  model = cd_fast.enet_coordinate_descent_gram(\n",
      "C:\\Users\\visah\\Anaconda3\\envs\\ML\\lib\\site-packages\\sklearn\\linear_model\\_coordinate_descent.py:525: UserWarning: Coordinate descent with alpha=0 may lead to unexpected results and is discouraged.\n",
      "  model = cd_fast.enet_coordinate_descent_gram(\n",
      "C:\\Users\\visah\\Anaconda3\\envs\\ML\\lib\\site-packages\\sklearn\\linear_model\\_coordinate_descent.py:525: ConvergenceWarning: Objective did not converge. You might want to increase the number of iterations. Duality gap: 855752107233252.5, tolerance: 315056613146.7937\n",
      "  model = cd_fast.enet_coordinate_descent_gram(\n",
      "C:\\Users\\visah\\Anaconda3\\envs\\ML\\lib\\site-packages\\sklearn\\linear_model\\_coordinate_descent.py:525: UserWarning: Coordinate descent with alpha=0 may lead to unexpected results and is discouraged.\n",
      "  model = cd_fast.enet_coordinate_descent_gram(\n",
      "C:\\Users\\visah\\Anaconda3\\envs\\ML\\lib\\site-packages\\sklearn\\linear_model\\_coordinate_descent.py:525: ConvergenceWarning: Objective did not converge. You might want to increase the number of iterations. Duality gap: 856321058371737.1, tolerance: 312029573256.3955\n",
      "  model = cd_fast.enet_coordinate_descent_gram(\n",
      "C:\\Users\\visah\\Anaconda3\\envs\\ML\\lib\\site-packages\\sklearn\\linear_model\\_coordinate_descent.py:525: UserWarning: Coordinate descent with alpha=0 may lead to unexpected results and is discouraged.\n",
      "  model = cd_fast.enet_coordinate_descent_gram(\n",
      "C:\\Users\\visah\\Anaconda3\\envs\\ML\\lib\\site-packages\\sklearn\\linear_model\\_coordinate_descent.py:525: ConvergenceWarning: Objective did not converge. You might want to increase the number of iterations. Duality gap: 1413275422475450.0, tolerance: 315654546019.0673\n",
      "  model = cd_fast.enet_coordinate_descent_gram(\n",
      "C:\\Users\\visah\\Anaconda3\\envs\\ML\\lib\\site-packages\\sklearn\\linear_model\\_coordinate_descent.py:525: UserWarning: Coordinate descent with alpha=0 may lead to unexpected results and is discouraged.\n",
      "  model = cd_fast.enet_coordinate_descent_gram(\n"
     ]
    },
    {
     "name": "stderr",
     "output_type": "stream",
     "text": [
      "C:\\Users\\visah\\Anaconda3\\envs\\ML\\lib\\site-packages\\sklearn\\linear_model\\_coordinate_descent.py:525: ConvergenceWarning: Objective did not converge. You might want to increase the number of iterations. Duality gap: 377929539196210.06, tolerance: 319090951927.6992\n",
      "  model = cd_fast.enet_coordinate_descent_gram(\n",
      "C:\\Users\\visah\\Anaconda3\\envs\\ML\\lib\\site-packages\\sklearn\\linear_model\\_coordinate_descent.py:525: ConvergenceWarning: Objective did not converge. You might want to increase the number of iterations. Duality gap: 361400326724525.06, tolerance: 295647207669.0527\n",
      "  model = cd_fast.enet_coordinate_descent_gram(\n",
      "C:\\Users\\visah\\Anaconda3\\envs\\ML\\lib\\site-packages\\sklearn\\linear_model\\_coordinate_descent.py:525: UserWarning: Coordinate descent with alpha=0 may lead to unexpected results and is discouraged.\n",
      "  model = cd_fast.enet_coordinate_descent_gram(\n",
      "C:\\Users\\visah\\Anaconda3\\envs\\ML\\lib\\site-packages\\sklearn\\linear_model\\_coordinate_descent.py:525: UserWarning: Coordinate descent with alpha=0 may lead to unexpected results and is discouraged.\n",
      "  model = cd_fast.enet_coordinate_descent_gram(\n",
      "C:\\Users\\visah\\Anaconda3\\envs\\ML\\lib\\site-packages\\sklearn\\linear_model\\_coordinate_descent.py:525: ConvergenceWarning: Objective did not converge. You might want to increase the number of iterations. Duality gap: 363415859448941.0, tolerance: 297190399129.77264\n",
      "  model = cd_fast.enet_coordinate_descent_gram(\n",
      "C:\\Users\\visah\\Anaconda3\\envs\\ML\\lib\\site-packages\\sklearn\\linear_model\\_coordinate_descent.py:525: ConvergenceWarning: Objective did not converge. You might want to increase the number of iterations. Duality gap: 375710196107515.4, tolerance: 316774257543.83514\n",
      "  model = cd_fast.enet_coordinate_descent_gram(\n",
      "C:\\Users\\visah\\Anaconda3\\envs\\ML\\lib\\site-packages\\sklearn\\linear_model\\_coordinate_descent.py:525: UserWarning: Coordinate descent with alpha=0 may lead to unexpected results and is discouraged.\n",
      "  model = cd_fast.enet_coordinate_descent_gram(\n",
      "C:\\Users\\visah\\Anaconda3\\envs\\ML\\lib\\site-packages\\sklearn\\linear_model\\_coordinate_descent.py:525: ConvergenceWarning: Objective did not converge. You might want to increase the number of iterations. Duality gap: 1403849269169349.0, tolerance: 311711864278.2163\n",
      "  model = cd_fast.enet_coordinate_descent_gram(\n",
      "C:\\Users\\visah\\Anaconda3\\envs\\ML\\lib\\site-packages\\sklearn\\linear_model\\_coordinate_descent.py:525: UserWarning: Coordinate descent with alpha=0 may lead to unexpected results and is discouraged.\n",
      "  model = cd_fast.enet_coordinate_descent_gram(\n",
      "C:\\Users\\visah\\Anaconda3\\envs\\ML\\lib\\site-packages\\sklearn\\linear_model\\_coordinate_descent.py:525: UserWarning: Coordinate descent with alpha=0 may lead to unexpected results and is discouraged.\n",
      "  model = cd_fast.enet_coordinate_descent_gram(\n",
      "C:\\Users\\visah\\Anaconda3\\envs\\ML\\lib\\site-packages\\sklearn\\linear_model\\_coordinate_descent.py:525: ConvergenceWarning: Objective did not converge. You might want to increase the number of iterations. Duality gap: 371354605912006.1, tolerance: 312029573256.3955\n",
      "  model = cd_fast.enet_coordinate_descent_gram(\n",
      "C:\\Users\\visah\\Anaconda3\\envs\\ML\\lib\\site-packages\\sklearn\\linear_model\\_coordinate_descent.py:525: ConvergenceWarning: Objective did not converge. You might want to increase the number of iterations. Duality gap: 371167115004247.8, tolerance: 315056613146.7937\n",
      "  model = cd_fast.enet_coordinate_descent_gram(\n",
      "C:\\Users\\visah\\Anaconda3\\envs\\ML\\lib\\site-packages\\sklearn\\linear_model\\_coordinate_descent.py:525: UserWarning: Coordinate descent with alpha=0 may lead to unexpected results and is discouraged.\n",
      "  model = cd_fast.enet_coordinate_descent_gram(\n",
      "C:\\Users\\visah\\Anaconda3\\envs\\ML\\lib\\site-packages\\sklearn\\linear_model\\_coordinate_descent.py:525: UserWarning: Coordinate descent with alpha=0 may lead to unexpected results and is discouraged.\n",
      "  model = cd_fast.enet_coordinate_descent_gram(\n",
      "C:\\Users\\visah\\Anaconda3\\envs\\ML\\lib\\site-packages\\sklearn\\linear_model\\_coordinate_descent.py:525: ConvergenceWarning: Objective did not converge. You might want to increase the number of iterations. Duality gap: 1384044745264548.0, tolerance: 306992198251.9673\n",
      "  model = cd_fast.enet_coordinate_descent_gram(\n",
      "C:\\Users\\visah\\Anaconda3\\envs\\ML\\lib\\site-packages\\sklearn\\linear_model\\_coordinate_descent.py:525: UserWarning: Coordinate descent with alpha=0 may lead to unexpected results and is discouraged.\n",
      "  model = cd_fast.enet_coordinate_descent_gram(\n",
      "C:\\Users\\visah\\Anaconda3\\envs\\ML\\lib\\site-packages\\sklearn\\linear_model\\_coordinate_descent.py:525: ConvergenceWarning: Objective did not converge. You might want to increase the number of iterations. Duality gap: 856667105713288.2, tolerance: 315654546019.0673\n",
      "  model = cd_fast.enet_coordinate_descent_gram(\n",
      "C:\\Users\\visah\\Anaconda3\\envs\\ML\\lib\\site-packages\\sklearn\\linear_model\\_coordinate_descent.py:525: UserWarning: Coordinate descent with alpha=0 may lead to unexpected results and is discouraged.\n",
      "  model = cd_fast.enet_coordinate_descent_gram(\n",
      "C:\\Users\\visah\\Anaconda3\\envs\\ML\\lib\\site-packages\\sklearn\\linear_model\\_coordinate_descent.py:525: ConvergenceWarning: Objective did not converge. You might want to increase the number of iterations. Duality gap: 1370626735968737.2, tolerance: 303982965709.3728\n",
      "  model = cd_fast.enet_coordinate_descent_gram(\n",
      "C:\\Users\\visah\\Anaconda3\\envs\\ML\\lib\\site-packages\\sklearn\\linear_model\\_coordinate_descent.py:525: UserWarning: Coordinate descent with alpha=0 may lead to unexpected results and is discouraged.\n",
      "  model = cd_fast.enet_coordinate_descent_gram(\n",
      "C:\\Users\\visah\\Anaconda3\\envs\\ML\\lib\\site-packages\\sklearn\\linear_model\\_coordinate_descent.py:525: ConvergenceWarning: Objective did not converge. You might want to increase the number of iterations. Duality gap: 1413770655984873.0, tolerance: 314595592560.7697\n",
      "  model = cd_fast.enet_coordinate_descent_gram(\n",
      "C:\\Users\\visah\\Anaconda3\\envs\\ML\\lib\\site-packages\\sklearn\\linear_model\\_coordinate_descent.py:525: UserWarning: Coordinate descent with alpha=0 may lead to unexpected results and is discouraged.\n",
      "  model = cd_fast.enet_coordinate_descent_gram(\n",
      "C:\\Users\\visah\\Anaconda3\\envs\\ML\\lib\\site-packages\\sklearn\\linear_model\\_coordinate_descent.py:525: ConvergenceWarning: Objective did not converge. You might want to increase the number of iterations. Duality gap: 862200940034585.2, tolerance: 311711864278.2163\n",
      "  model = cd_fast.enet_coordinate_descent_gram(\n",
      "C:\\Users\\visah\\Anaconda3\\envs\\ML\\lib\\site-packages\\sklearn\\linear_model\\_coordinate_descent.py:525: UserWarning: Coordinate descent with alpha=0 may lead to unexpected results and is discouraged.\n",
      "  model = cd_fast.enet_coordinate_descent_gram(\n",
      "C:\\Users\\visah\\Anaconda3\\envs\\ML\\lib\\site-packages\\sklearn\\linear_model\\_coordinate_descent.py:525: ConvergenceWarning: Objective did not converge. You might want to increase the number of iterations. Duality gap: 1395944663745875.8, tolerance: 310395310336.4045\n",
      "  model = cd_fast.enet_coordinate_descent_gram(\n",
      "C:\\Users\\visah\\Anaconda3\\envs\\ML\\lib\\site-packages\\sklearn\\linear_model\\_coordinate_descent.py:525: UserWarning: Coordinate descent with alpha=0 may lead to unexpected results and is discouraged.\n",
      "  model = cd_fast.enet_coordinate_descent_gram(\n",
      "C:\\Users\\visah\\Anaconda3\\envs\\ML\\lib\\site-packages\\sklearn\\linear_model\\_coordinate_descent.py:525: ConvergenceWarning: Objective did not converge. You might want to increase the number of iterations. Duality gap: 1356411413903698.8, tolerance: 300684679833.28503\n",
      "  model = cd_fast.enet_coordinate_descent_gram(\n",
      "C:\\Users\\visah\\Anaconda3\\envs\\ML\\lib\\site-packages\\sklearn\\linear_model\\_coordinate_descent.py:525: UserWarning: Coordinate descent with alpha=0 may lead to unexpected results and is discouraged.\n",
      "  model = cd_fast.enet_coordinate_descent_gram(\n",
      "C:\\Users\\visah\\Anaconda3\\envs\\ML\\lib\\site-packages\\sklearn\\linear_model\\_coordinate_descent.py:525: ConvergenceWarning: Objective did not converge. You might want to increase the number of iterations. Duality gap: 1410248828835555.5, tolerance: 314792711145.35626\n",
      "  model = cd_fast.enet_coordinate_descent_gram(\n",
      "C:\\Users\\visah\\Anaconda3\\envs\\ML\\lib\\site-packages\\sklearn\\linear_model\\_coordinate_descent.py:525: UserWarning: Coordinate descent with alpha=0 may lead to unexpected results and is discouraged.\n",
      "  model = cd_fast.enet_coordinate_descent_gram(\n"
     ]
    },
    {
     "name": "stderr",
     "output_type": "stream",
     "text": [
      "C:\\Users\\visah\\Anaconda3\\envs\\ML\\lib\\site-packages\\sklearn\\linear_model\\_coordinate_descent.py:525: ConvergenceWarning: Objective did not converge. You might want to increase the number of iterations. Duality gap: 372666248167178.44, tolerance: 315654546019.0673\n",
      "  model = cd_fast.enet_coordinate_descent_gram(\n",
      "C:\\Users\\visah\\Anaconda3\\envs\\ML\\lib\\site-packages\\sklearn\\linear_model\\_coordinate_descent.py:525: UserWarning: Coordinate descent with alpha=0 may lead to unexpected results and is discouraged.\n",
      "  model = cd_fast.enet_coordinate_descent_gram(\n",
      "C:\\Users\\visah\\Anaconda3\\envs\\ML\\lib\\site-packages\\sklearn\\linear_model\\_coordinate_descent.py:525: ConvergenceWarning: Objective did not converge. You might want to increase the number of iterations. Duality gap: 843677252312336.1, tolerance: 303982965709.3728\n",
      "  model = cd_fast.enet_coordinate_descent_gram(\n",
      "C:\\Users\\visah\\Anaconda3\\envs\\ML\\lib\\site-packages\\sklearn\\linear_model\\_coordinate_descent.py:525: UserWarning: Coordinate descent with alpha=0 may lead to unexpected results and is discouraged.\n",
      "  model = cd_fast.enet_coordinate_descent_gram(\n",
      "C:\\Users\\visah\\Anaconda3\\envs\\ML\\lib\\site-packages\\sklearn\\linear_model\\_coordinate_descent.py:525: ConvergenceWarning: Objective did not converge. You might want to increase the number of iterations. Duality gap: 374896735380013.75, tolerance: 311711864278.2163\n",
      "  model = cd_fast.enet_coordinate_descent_gram(\n",
      "C:\\Users\\visah\\Anaconda3\\envs\\ML\\lib\\site-packages\\sklearn\\linear_model\\_coordinate_descent.py:525: UserWarning: Coordinate descent with alpha=0 may lead to unexpected results and is discouraged.\n",
      "  model = cd_fast.enet_coordinate_descent_gram(\n",
      "C:\\Users\\visah\\Anaconda3\\envs\\ML\\lib\\site-packages\\sklearn\\linear_model\\_coordinate_descent.py:525: ConvergenceWarning: Objective did not converge. You might want to increase the number of iterations. Duality gap: 863068478722597.2, tolerance: 314595592560.7697\n",
      "  model = cd_fast.enet_coordinate_descent_gram(\n",
      "C:\\Users\\visah\\Anaconda3\\envs\\ML\\lib\\site-packages\\sklearn\\linear_model\\_coordinate_descent.py:525: UserWarning: Coordinate descent with alpha=0 may lead to unexpected results and is discouraged.\n",
      "  model = cd_fast.enet_coordinate_descent_gram(\n",
      "C:\\Users\\visah\\Anaconda3\\envs\\ML\\lib\\site-packages\\sklearn\\linear_model\\_coordinate_descent.py:525: ConvergenceWarning: Objective did not converge. You might want to increase the number of iterations. Duality gap: 856131622193743.8, tolerance: 310395310336.4045\n",
      "  model = cd_fast.enet_coordinate_descent_gram(\n",
      "C:\\Users\\visah\\Anaconda3\\envs\\ML\\lib\\site-packages\\sklearn\\linear_model\\_coordinate_descent.py:525: UserWarning: Coordinate descent with alpha=0 may lead to unexpected results and is discouraged.\n",
      "  model = cd_fast.enet_coordinate_descent_gram(\n",
      "C:\\Users\\visah\\Anaconda3\\envs\\ML\\lib\\site-packages\\sklearn\\linear_model\\_coordinate_descent.py:525: ConvergenceWarning: Objective did not converge. You might want to increase the number of iterations. Duality gap: 854799066848161.1, tolerance: 314792711145.35626\n",
      "  model = cd_fast.enet_coordinate_descent_gram(\n",
      "C:\\Users\\visah\\Anaconda3\\envs\\ML\\lib\\site-packages\\sklearn\\linear_model\\_coordinate_descent.py:525: UserWarning: Coordinate descent with alpha=0 may lead to unexpected results and is discouraged.\n",
      "  model = cd_fast.enet_coordinate_descent_gram(\n",
      "C:\\Users\\visah\\Anaconda3\\envs\\ML\\lib\\site-packages\\sklearn\\linear_model\\_coordinate_descent.py:525: ConvergenceWarning: Objective did not converge. You might want to increase the number of iterations. Duality gap: 853572978940546.5, tolerance: 306992198251.9673\n",
      "  model = cd_fast.enet_coordinate_descent_gram(\n",
      "C:\\Users\\visah\\Anaconda3\\envs\\ML\\lib\\site-packages\\sklearn\\linear_model\\_coordinate_descent.py:525: UserWarning: Coordinate descent with alpha=0 may lead to unexpected results and is discouraged.\n",
      "  model = cd_fast.enet_coordinate_descent_gram(\n",
      "C:\\Users\\visah\\Anaconda3\\envs\\ML\\lib\\site-packages\\sklearn\\linear_model\\_coordinate_descent.py:525: ConvergenceWarning: Objective did not converge. You might want to increase the number of iterations. Duality gap: 365507985215205.9, tolerance: 303982965709.3728\n",
      "  model = cd_fast.enet_coordinate_descent_gram(\n",
      "C:\\Users\\visah\\Anaconda3\\envs\\ML\\lib\\site-packages\\sklearn\\linear_model\\_coordinate_descent.py:525: UserWarning: Coordinate descent with alpha=0 may lead to unexpected results and is discouraged.\n",
      "  model = cd_fast.enet_coordinate_descent_gram(\n",
      "C:\\Users\\visah\\Anaconda3\\envs\\ML\\lib\\site-packages\\sklearn\\linear_model\\_coordinate_descent.py:525: ConvergenceWarning: Objective did not converge. You might want to increase the number of iterations. Duality gap: 837769081360698.6, tolerance: 300684679833.28503\n",
      "  model = cd_fast.enet_coordinate_descent_gram(\n",
      "C:\\Users\\visah\\Anaconda3\\envs\\ML\\lib\\site-packages\\sklearn\\linear_model\\_coordinate_descent.py:525: UserWarning: Coordinate descent with alpha=0 may lead to unexpected results and is discouraged.\n",
      "  model = cd_fast.enet_coordinate_descent_gram(\n",
      "C:\\Users\\visah\\Anaconda3\\envs\\ML\\lib\\site-packages\\sklearn\\linear_model\\_coordinate_descent.py:525: ConvergenceWarning: Objective did not converge. You might want to increase the number of iterations. Duality gap: 1441476246273640.0, tolerance: 321419784707.81433\n",
      "  model = cd_fast.enet_coordinate_descent_gram(\n",
      "C:\\Users\\visah\\Anaconda3\\envs\\ML\\lib\\site-packages\\sklearn\\linear_model\\_coordinate_descent.py:525: UserWarning: Coordinate descent with alpha=0 may lead to unexpected results and is discouraged.\n",
      "  model = cd_fast.enet_coordinate_descent_gram(\n",
      "C:\\Users\\visah\\Anaconda3\\envs\\ML\\lib\\site-packages\\sklearn\\linear_model\\_coordinate_descent.py:525: ConvergenceWarning: Objective did not converge. You might want to increase the number of iterations. Duality gap: 1353925510210856.0, tolerance: 301417118608.4804\n",
      "  model = cd_fast.enet_coordinate_descent_gram(\n",
      "C:\\Users\\visah\\Anaconda3\\envs\\ML\\lib\\site-packages\\sklearn\\linear_model\\_coordinate_descent.py:525: UserWarning: Coordinate descent with alpha=0 may lead to unexpected results and is discouraged.\n",
      "  model = cd_fast.enet_coordinate_descent_gram(\n",
      "C:\\Users\\visah\\Anaconda3\\envs\\ML\\lib\\site-packages\\sklearn\\linear_model\\_coordinate_descent.py:525: ConvergenceWarning: Objective did not converge. You might want to increase the number of iterations. Duality gap: 372103400376508.8, tolerance: 310395310336.4045\n",
      "  model = cd_fast.enet_coordinate_descent_gram(\n",
      "C:\\Users\\visah\\Anaconda3\\envs\\ML\\lib\\site-packages\\sklearn\\linear_model\\_coordinate_descent.py:525: ConvergenceWarning: Objective did not converge. You might want to increase the number of iterations. Duality gap: 372616810884753.1, tolerance: 306992198251.9673\n",
      "  model = cd_fast.enet_coordinate_descent_gram(\n",
      "C:\\Users\\visah\\Anaconda3\\envs\\ML\\lib\\site-packages\\sklearn\\linear_model\\_coordinate_descent.py:525: UserWarning: Coordinate descent with alpha=0 may lead to unexpected results and is discouraged.\n",
      "  model = cd_fast.enet_coordinate_descent_gram(\n",
      "C:\\Users\\visah\\Anaconda3\\envs\\ML\\lib\\site-packages\\sklearn\\linear_model\\_coordinate_descent.py:525: UserWarning: Coordinate descent with alpha=0 may lead to unexpected results and is discouraged.\n",
      "  model = cd_fast.enet_coordinate_descent_gram(\n",
      "C:\\Users\\visah\\Anaconda3\\envs\\ML\\lib\\site-packages\\sklearn\\linear_model\\_coordinate_descent.py:525: ConvergenceWarning: Objective did not converge. You might want to increase the number of iterations. Duality gap: 373131016610159.5, tolerance: 314595592560.7697\n",
      "  model = cd_fast.enet_coordinate_descent_gram(\n",
      "C:\\Users\\visah\\Anaconda3\\envs\\ML\\lib\\site-packages\\sklearn\\linear_model\\_coordinate_descent.py:525: UserWarning: Coordinate descent with alpha=0 may lead to unexpected results and is discouraged.\n",
      "  model = cd_fast.enet_coordinate_descent_gram(\n",
      "C:\\Users\\visah\\Anaconda3\\envs\\ML\\lib\\site-packages\\sklearn\\linear_model\\_coordinate_descent.py:525: ConvergenceWarning: Objective did not converge. You might want to increase the number of iterations. Duality gap: 1402259945486418.0, tolerance: 312154884476.963\n",
      "  model = cd_fast.enet_coordinate_descent_gram(\n",
      "C:\\Users\\visah\\Anaconda3\\envs\\ML\\lib\\site-packages\\sklearn\\linear_model\\_coordinate_descent.py:525: UserWarning: Coordinate descent with alpha=0 may lead to unexpected results and is discouraged.\n",
      "  model = cd_fast.enet_coordinate_descent_gram(\n",
      "C:\\Users\\visah\\Anaconda3\\envs\\ML\\lib\\site-packages\\sklearn\\linear_model\\_coordinate_descent.py:525: ConvergenceWarning: Objective did not converge. You might want to increase the number of iterations. Duality gap: 367112689778989.56, tolerance: 300684679833.28503\n",
      "  model = cd_fast.enet_coordinate_descent_gram(\n",
      "C:\\Users\\visah\\Anaconda3\\envs\\ML\\lib\\site-packages\\sklearn\\linear_model\\_coordinate_descent.py:525: UserWarning: Coordinate descent with alpha=0 may lead to unexpected results and is discouraged.\n",
      "  model = cd_fast.enet_coordinate_descent_gram(\n",
      "C:\\Users\\visah\\Anaconda3\\envs\\ML\\lib\\site-packages\\sklearn\\linear_model\\_coordinate_descent.py:525: ConvergenceWarning: Objective did not converge. You might want to increase the number of iterations. Duality gap: 372520870807145.44, tolerance: 314792711145.35626\n",
      "  model = cd_fast.enet_coordinate_descent_gram(\n",
      "C:\\Users\\visah\\Anaconda3\\envs\\ML\\lib\\site-packages\\sklearn\\linear_model\\_coordinate_descent.py:525: UserWarning: Coordinate descent with alpha=0 may lead to unexpected results and is discouraged.\n",
      "  model = cd_fast.enet_coordinate_descent_gram(\n"
     ]
    },
    {
     "name": "stderr",
     "output_type": "stream",
     "text": [
      "C:\\Users\\visah\\Anaconda3\\envs\\ML\\lib\\site-packages\\sklearn\\linear_model\\_coordinate_descent.py:525: ConvergenceWarning: Objective did not converge. You might want to increase the number of iterations. Duality gap: 828332516342529.8, tolerance: 301417118608.4804\n",
      "  model = cd_fast.enet_coordinate_descent_gram(\n",
      "C:\\Users\\visah\\Anaconda3\\envs\\ML\\lib\\site-packages\\sklearn\\linear_model\\_coordinate_descent.py:525: UserWarning: Coordinate descent with alpha=0 may lead to unexpected results and is discouraged.\n",
      "  model = cd_fast.enet_coordinate_descent_gram(\n",
      "C:\\Users\\visah\\Anaconda3\\envs\\ML\\lib\\site-packages\\sklearn\\linear_model\\_coordinate_descent.py:525: ConvergenceWarning: Objective did not converge. You might want to increase the number of iterations. Duality gap: 1397583284548935.8, tolerance: 311284303946.9967\n",
      "  model = cd_fast.enet_coordinate_descent_gram(\n",
      "C:\\Users\\visah\\Anaconda3\\envs\\ML\\lib\\site-packages\\sklearn\\linear_model\\_coordinate_descent.py:525: UserWarning: Coordinate descent with alpha=0 may lead to unexpected results and is discouraged.\n",
      "  model = cd_fast.enet_coordinate_descent_gram(\n",
      "C:\\Users\\visah\\Anaconda3\\envs\\ML\\lib\\site-packages\\sklearn\\linear_model\\_coordinate_descent.py:525: ConvergenceWarning: Objective did not converge. You might want to increase the number of iterations. Duality gap: 1387352017923121.2, tolerance: 308597797468.6795\n",
      "  model = cd_fast.enet_coordinate_descent_gram(\n",
      "C:\\Users\\visah\\Anaconda3\\envs\\ML\\lib\\site-packages\\sklearn\\linear_model\\_coordinate_descent.py:525: UserWarning: Coordinate descent with alpha=0 may lead to unexpected results and is discouraged.\n",
      "  model = cd_fast.enet_coordinate_descent_gram(\n",
      "C:\\Users\\visah\\Anaconda3\\envs\\ML\\lib\\site-packages\\sklearn\\linear_model\\_coordinate_descent.py:525: ConvergenceWarning: Objective did not converge. You might want to increase the number of iterations. Duality gap: 1359294914986951.5, tolerance: 301371355740.26807\n",
      "  model = cd_fast.enet_coordinate_descent_gram(\n",
      "C:\\Users\\visah\\Anaconda3\\envs\\ML\\lib\\site-packages\\sklearn\\linear_model\\_coordinate_descent.py:525: UserWarning: Coordinate descent with alpha=0 may lead to unexpected results and is discouraged.\n",
      "  model = cd_fast.enet_coordinate_descent_gram(\n",
      "C:\\Users\\visah\\Anaconda3\\envs\\ML\\lib\\site-packages\\sklearn\\linear_model\\_coordinate_descent.py:525: ConvergenceWarning: Objective did not converge. You might want to increase the number of iterations. Duality gap: 871435409916241.6, tolerance: 321419784707.81433\n",
      "  model = cd_fast.enet_coordinate_descent_gram(\n",
      "C:\\Users\\visah\\Anaconda3\\envs\\ML\\lib\\site-packages\\sklearn\\linear_model\\_coordinate_descent.py:525: UserWarning: Coordinate descent with alpha=0 may lead to unexpected results and is discouraged.\n",
      "  model = cd_fast.enet_coordinate_descent_gram(\n",
      "C:\\Users\\visah\\Anaconda3\\envs\\ML\\lib\\site-packages\\sklearn\\linear_model\\_coordinate_descent.py:525: ConvergenceWarning: Objective did not converge. You might want to increase the number of iterations. Duality gap: 855788015835892.0, tolerance: 312154884476.963\n",
      "  model = cd_fast.enet_coordinate_descent_gram(\n",
      "C:\\Users\\visah\\Anaconda3\\envs\\ML\\lib\\site-packages\\sklearn\\linear_model\\_coordinate_descent.py:525: UserWarning: Coordinate descent with alpha=0 may lead to unexpected results and is discouraged.\n",
      "  model = cd_fast.enet_coordinate_descent_gram(\n",
      "C:\\Users\\visah\\Anaconda3\\envs\\ML\\lib\\site-packages\\sklearn\\linear_model\\_coordinate_descent.py:525: ConvergenceWarning: Objective did not converge. You might want to increase the number of iterations. Duality gap: 1404109174190357.2, tolerance: 312378384317.1502\n",
      "  model = cd_fast.enet_coordinate_descent_gram(\n",
      "C:\\Users\\visah\\Anaconda3\\envs\\ML\\lib\\site-packages\\sklearn\\linear_model\\_coordinate_descent.py:525: UserWarning: Coordinate descent with alpha=0 may lead to unexpected results and is discouraged.\n",
      "  model = cd_fast.enet_coordinate_descent_gram(\n",
      "C:\\Users\\visah\\Anaconda3\\envs\\ML\\lib\\site-packages\\sklearn\\linear_model\\_coordinate_descent.py:525: ConvergenceWarning: Objective did not converge. You might want to increase the number of iterations. Duality gap: 360290828919588.4, tolerance: 301417118608.4804\n",
      "  model = cd_fast.enet_coordinate_descent_gram(\n",
      "C:\\Users\\visah\\Anaconda3\\envs\\ML\\lib\\site-packages\\sklearn\\linear_model\\_coordinate_descent.py:525: UserWarning: Coordinate descent with alpha=0 may lead to unexpected results and is discouraged.\n",
      "  model = cd_fast.enet_coordinate_descent_gram(\n",
      "C:\\Users\\visah\\Anaconda3\\envs\\ML\\lib\\site-packages\\sklearn\\linear_model\\_coordinate_descent.py:525: ConvergenceWarning: Objective did not converge. You might want to increase the number of iterations. Duality gap: 1380583199496674.5, tolerance: 305949665347.1934\n",
      "  model = cd_fast.enet_coordinate_descent_gram(\n",
      "C:\\Users\\visah\\Anaconda3\\envs\\ML\\lib\\site-packages\\sklearn\\linear_model\\_coordinate_descent.py:525: UserWarning: Coordinate descent with alpha=0 may lead to unexpected results and is discouraged.\n",
      "  model = cd_fast.enet_coordinate_descent_gram(\n",
      "C:\\Users\\visah\\Anaconda3\\envs\\ML\\lib\\site-packages\\sklearn\\linear_model\\_coordinate_descent.py:525: ConvergenceWarning: Objective did not converge. You might want to increase the number of iterations. Duality gap: 374304682391757.1, tolerance: 321419784707.81433\n",
      "  model = cd_fast.enet_coordinate_descent_gram(\n",
      "C:\\Users\\visah\\Anaconda3\\envs\\ML\\lib\\site-packages\\sklearn\\linear_model\\_coordinate_descent.py:525: ConvergenceWarning: Objective did not converge. You might want to increase the number of iterations. Duality gap: 848496526811204.1, tolerance: 308597797468.6795\n",
      "  model = cd_fast.enet_coordinate_descent_gram(\n",
      "C:\\Users\\visah\\Anaconda3\\envs\\ML\\lib\\site-packages\\sklearn\\linear_model\\_coordinate_descent.py:525: UserWarning: Coordinate descent with alpha=0 may lead to unexpected results and is discouraged.\n",
      "  model = cd_fast.enet_coordinate_descent_gram(\n",
      "C:\\Users\\visah\\Anaconda3\\envs\\ML\\lib\\site-packages\\sklearn\\linear_model\\_coordinate_descent.py:525: ConvergenceWarning: Objective did not converge. You might want to increase the number of iterations. Duality gap: 853318396361299.0, tolerance: 311284303946.9967\n",
      "  model = cd_fast.enet_coordinate_descent_gram(\n",
      "C:\\Users\\visah\\Anaconda3\\envs\\ML\\lib\\site-packages\\sklearn\\linear_model\\_coordinate_descent.py:525: UserWarning: Coordinate descent with alpha=0 may lead to unexpected results and is discouraged.\n",
      "  model = cd_fast.enet_coordinate_descent_gram(\n",
      "C:\\Users\\visah\\Anaconda3\\envs\\ML\\lib\\site-packages\\sklearn\\linear_model\\_coordinate_descent.py:525: UserWarning: Coordinate descent with alpha=0 may lead to unexpected results and is discouraged.\n",
      "  model = cd_fast.enet_coordinate_descent_gram(\n",
      "C:\\Users\\visah\\Anaconda3\\envs\\ML\\lib\\site-packages\\sklearn\\linear_model\\_coordinate_descent.py:525: ConvergenceWarning: Objective did not converge. You might want to increase the number of iterations. Duality gap: 838070083173524.8, tolerance: 301371355740.26807\n",
      "  model = cd_fast.enet_coordinate_descent_gram(\n",
      "C:\\Users\\visah\\Anaconda3\\envs\\ML\\lib\\site-packages\\sklearn\\linear_model\\_coordinate_descent.py:525: UserWarning: Coordinate descent with alpha=0 may lead to unexpected results and is discouraged.\n",
      "  model = cd_fast.enet_coordinate_descent_gram(\n",
      "C:\\Users\\visah\\Anaconda3\\envs\\ML\\lib\\site-packages\\sklearn\\linear_model\\_coordinate_descent.py:525: ConvergenceWarning: Objective did not converge. You might want to increase the number of iterations. Duality gap: 372387292394536.4, tolerance: 312154884476.963\n",
      "  model = cd_fast.enet_coordinate_descent_gram(\n",
      "C:\\Users\\visah\\Anaconda3\\envs\\ML\\lib\\site-packages\\sklearn\\linear_model\\_coordinate_descent.py:525: ConvergenceWarning: Objective did not converge. You might want to increase the number of iterations. Duality gap: 859186311665923.0, tolerance: 312378384317.1502\n",
      "  model = cd_fast.enet_coordinate_descent_gram(\n",
      "C:\\Users\\visah\\Anaconda3\\envs\\ML\\lib\\site-packages\\sklearn\\linear_model\\_coordinate_descent.py:525: UserWarning: Coordinate descent with alpha=0 may lead to unexpected results and is discouraged.\n",
      "  model = cd_fast.enet_coordinate_descent_gram(\n",
      "C:\\Users\\visah\\Anaconda3\\envs\\ML\\lib\\site-packages\\sklearn\\linear_model\\_coordinate_descent.py:525: ConvergenceWarning: Objective did not converge. You might want to increase the number of iterations. Duality gap: 1417003619738910.5, tolerance: 315688410336.41064\n",
      "  model = cd_fast.enet_coordinate_descent_gram(\n"
     ]
    },
    {
     "name": "stderr",
     "output_type": "stream",
     "text": [
      "C:\\Users\\visah\\Anaconda3\\envs\\ML\\lib\\site-packages\\sklearn\\linear_model\\_coordinate_descent.py:525: UserWarning: Coordinate descent with alpha=0 may lead to unexpected results and is discouraged.\n",
      "  model = cd_fast.enet_coordinate_descent_gram(\n",
      "C:\\Users\\visah\\Anaconda3\\envs\\ML\\lib\\site-packages\\sklearn\\linear_model\\_coordinate_descent.py:525: ConvergenceWarning: Objective did not converge. You might want to increase the number of iterations. Duality gap: 854333010226642.8, tolerance: 305949665347.1934\n",
      "  model = cd_fast.enet_coordinate_descent_gram(\n",
      "C:\\Users\\visah\\Anaconda3\\envs\\ML\\lib\\site-packages\\sklearn\\linear_model\\_coordinate_descent.py:525: UserWarning: Coordinate descent with alpha=0 may lead to unexpected results and is discouraged.\n",
      "  model = cd_fast.enet_coordinate_descent_gram(\n",
      "C:\\Users\\visah\\Anaconda3\\envs\\ML\\lib\\site-packages\\sklearn\\linear_model\\_coordinate_descent.py:525: ConvergenceWarning: Objective did not converge. You might want to increase the number of iterations. Duality gap: 367545029796896.7, tolerance: 308597797468.6795\n",
      "  model = cd_fast.enet_coordinate_descent_gram(\n",
      "C:\\Users\\visah\\Anaconda3\\envs\\ML\\lib\\site-packages\\sklearn\\linear_model\\_coordinate_descent.py:525: ConvergenceWarning: Objective did not converge. You might want to increase the number of iterations. Duality gap: 372068285366843.25, tolerance: 311284303946.9967\n",
      "  model = cd_fast.enet_coordinate_descent_gram(\n",
      "C:\\Users\\visah\\Anaconda3\\envs\\ML\\lib\\site-packages\\sklearn\\linear_model\\_coordinate_descent.py:525: ConvergenceWarning: Objective did not converge. You might want to increase the number of iterations. Duality gap: 374724156808879.7, tolerance: 312378384317.1502\n",
      "  model = cd_fast.enet_coordinate_descent_gram(\n",
      "C:\\Users\\visah\\Anaconda3\\envs\\ML\\lib\\site-packages\\sklearn\\linear_model\\_coordinate_descent.py:525: ConvergenceWarning: Objective did not converge. You might want to increase the number of iterations. Duality gap: 1418578605127328.2, tolerance: 315627484696.56384\n",
      "  model = cd_fast.enet_coordinate_descent_gram(\n",
      "C:\\Users\\visah\\Anaconda3\\envs\\ML\\lib\\site-packages\\sklearn\\linear_model\\_coordinate_descent.py:525: UserWarning: Coordinate descent with alpha=0 may lead to unexpected results and is discouraged.\n",
      "  model = cd_fast.enet_coordinate_descent_gram(\n",
      "C:\\Users\\visah\\Anaconda3\\envs\\ML\\lib\\site-packages\\sklearn\\linear_model\\_coordinate_descent.py:525: ConvergenceWarning: Objective did not converge. You might want to increase the number of iterations. Duality gap: 865059462827974.2, tolerance: 315688410336.41064\n",
      "  model = cd_fast.enet_coordinate_descent_gram(\n",
      "C:\\Users\\visah\\Anaconda3\\envs\\ML\\lib\\site-packages\\sklearn\\linear_model\\_coordinate_descent.py:525: UserWarning: Coordinate descent with alpha=0 may lead to unexpected results and is discouraged.\n",
      "  model = cd_fast.enet_coordinate_descent_gram(\n",
      "C:\\Users\\visah\\Anaconda3\\envs\\ML\\lib\\site-packages\\sklearn\\linear_model\\_coordinate_descent.py:525: ConvergenceWarning: Objective did not converge. You might want to increase the number of iterations. Duality gap: 372430823638285.1, tolerance: 305949665347.1934\n",
      "  model = cd_fast.enet_coordinate_descent_gram(\n",
      "C:\\Users\\visah\\Anaconda3\\envs\\ML\\lib\\site-packages\\sklearn\\linear_model\\_coordinate_descent.py:525: ConvergenceWarning: Objective did not converge. You might want to increase the number of iterations. Duality gap: 364954440616715.06, tolerance: 301371355740.26807\n",
      "  model = cd_fast.enet_coordinate_descent_gram(\n",
      "C:\\Users\\visah\\Anaconda3\\envs\\ML\\lib\\site-packages\\sklearn\\linear_model\\_coordinate_descent.py:525: ConvergenceWarning: Objective did not converge. You might want to increase the number of iterations. Duality gap: 865532064832615.8, tolerance: 315627484696.56384\n",
      "  model = cd_fast.enet_coordinate_descent_gram(\n",
      "C:\\Users\\visah\\Anaconda3\\envs\\ML\\lib\\site-packages\\sklearn\\linear_model\\_coordinate_descent.py:525: UserWarning: Coordinate descent with alpha=0 may lead to unexpected results and is discouraged.\n",
      "  model = cd_fast.enet_coordinate_descent_gram(\n",
      "C:\\Users\\visah\\Anaconda3\\envs\\ML\\lib\\site-packages\\sklearn\\linear_model\\_coordinate_descent.py:525: ConvergenceWarning: Objective did not converge. You might want to increase the number of iterations. Duality gap: 378781069667849.25, tolerance: 315688410336.41064\n",
      "  model = cd_fast.enet_coordinate_descent_gram(\n",
      "C:\\Users\\visah\\Anaconda3\\envs\\ML\\lib\\site-packages\\sklearn\\linear_model\\_coordinate_descent.py:525: ConvergenceWarning: Objective did not converge. You might want to increase the number of iterations. Duality gap: 375575788015308.4, tolerance: 315627484696.56384\n",
      "  model = cd_fast.enet_coordinate_descent_gram(\n"
     ]
    },
    {
     "name": "stdout",
     "output_type": "stream",
     "text": [
      "0.9054645894370547\n",
      "0.90304245845896\n"
     ]
    }
   ],
   "source": [
    "from sklearn.model_selection import RepeatedKFold\n",
    "cv = RepeatedKFold(n_splits=10, n_repeats=3, random_state=1)\n",
    "# define model\n",
    "ratios = np.arange(0, 1, 0.01)\n",
    "alphas = [1.0, 10.0, 100.0]\n",
    "elasticModel = ElasticNetCV(l1_ratio=ratios, alphas=alphas, cv=cv, n_jobs=-1,max_iter=100000)\n",
    "elasticModel.fit(X_poly, y_train)\n",
    "elastic_pred = elasticModel.predict(X_poly_test_scaled)\n",
    "print(r2_score(y_test,elastic_pred))\n",
    "print(adj_r2(X_poly_test_scaled,y_test,elasticModel))"
   ]
  },
  {
   "cell_type": "code",
   "execution_count": null,
   "id": "anticipated-cassette",
   "metadata": {},
   "outputs": [],
   "source": []
  }
 ],
 "metadata": {
  "kernelspec": {
   "display_name": "Python 3",
   "language": "python",
   "name": "python3"
  },
  "language_info": {
   "codemirror_mode": {
    "name": "ipython",
    "version": 3
   },
   "file_extension": ".py",
   "mimetype": "text/x-python",
   "name": "python",
   "nbconvert_exporter": "python",
   "pygments_lexer": "ipython3",
   "version": "3.9.1"
  }
 },
 "nbformat": 4,
 "nbformat_minor": 5
}
